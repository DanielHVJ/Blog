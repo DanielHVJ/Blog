{
 "metadata": {
  "language_info": {
   "codemirror_mode": {
    "name": "ipython",
    "version": 3
   },
   "file_extension": ".py",
   "mimetype": "text/x-python",
   "name": "python",
   "nbconvert_exporter": "python",
   "pygments_lexer": "ipython3",
   "version": "3.8.6-final"
  },
  "orig_nbformat": 2,
  "kernelspec": {
   "name": "python3",
   "display_name": "Python 3"
  }
 },
 "nbformat": 4,
 "nbformat_minor": 2,
 "cells": [
  {
   "cell_type": "code",
   "execution_count": 4,
   "metadata": {},
   "outputs": [],
   "source": [
    "import multiprocessing\n",
    "import random\n",
    "from multiprocessing import Pool\n",
    "import pro"
   ]
  },
  {
   "cell_type": "code",
   "execution_count": 11,
   "metadata": {},
   "outputs": [
    {
     "output_type": "stream",
     "name": "stdout",
     "text": [
      "The factors of 102108701 are [102108701, 7457, 13693]\nThe factors of 47301867 are [47301867, 15767289, 5255763, 1751921, 197, 8893]\nThe factors of 448396913 are [448396913, 17, 26376289]\nThe factors of 59517975 are [59517975, 19839325, 5, 3967865, 5, 793573, 11, 72143, 19, 3797]\nThe factors of 424722956 are [106180739, 7, 15168677]\nThe factors of 36827233 are [36827233, 673, 54721]\nThe factors of 296097417 are [296097417, 98699139, 32899713, 10966571, 7, 1566653, 11, 142423, 73, 1951]\nThe factors of 359406286 are [179703143]\nThe factors of 208495009 are [208495009, 503, 414503]\nThe factors of 327851777 are [327851777, 11, 29804707, 719, 41453]\nThe factors of 31677721 are [31677721, 4517, 7013]\nThe factors of 56742881 are [56742881, 13, 4364837]\nThe factors of 357089143 are [357089143, 53, 6737531]\nThe factors of 429533481 are [429533481, 143177827, 13, 11013679, 37, 297667, 197, 1511]\nThe factors of 343256488 are [42907061, 211, 203351]\nThe factors of 482759296 are [3771557, 19, 198503]\nThe factors of 365319218 are [182659609, 11, 16605419, 157, 105767]\nThe factors of 68822706 are [34411353, 11470451, 223, 51437]\nThe factors of 407577120 are [12736785, 4245595, 5, 849119]\nThe factors of 395012068 are [98753017, 11, 8977547, 17, 528091]\nProgram Executed in 51.779056399999945\n"
     ]
    }
   ],
   "source": [
    "n_cpu = multiprocessing.cpu_count()\n",
    "\n",
    "import timeit\n",
    "start = timeit.default_timer()\n",
    "\n",
    "if __name__ ==  '__main__':\n",
    "    pool = Pool(4)\n",
    "    to_factor = [ random.randint(10000000, 500000000) for i in range(20)]\n",
    "    results = pool.map(pro.prime_factor, to_factor)\n",
    "    for value, factors in zip(to_factor, results):\n",
    "        print(\"The factors of {} are {}\".format(value, factors))\n",
    "\n",
    "stop = timeit.default_timer()\n",
    "execution_time = stop - start\n",
    "print(\"Program Executed in \"+str(execution_time))"
   ]
  },
  {
   "cell_type": "code",
   "execution_count": 9,
   "metadata": {},
   "outputs": [
    {
     "output_type": "stream",
     "name": "stdout",
     "text": [
      "The factors of 234326133 are [234326133, 78108711, 26036237, 103, 252779]\nThe factors of 205488024 are [25686003, 8562001, 7, 1223143, 269, 4547]\nThe factors of 120292939 are [120292939, 13, 9253303, 67, 138109, 167, 827]\nThe factors of 333102581 are [333102581, 7, 47586083, 4139, 11497]\nThe factors of 74559984 are [4659999, 1553333]\nThe factors of 487217609 are [487217609, 16871, 28879]\nThe factors of 153523184 are [9595199]\nThe factors of 284376753 are [284376753, 94792251, 31597417]\nThe factors of 192582017 are [192582017, 2657, 72481]\nThe factors of 325560853 are [325560853, 31, 10501963, 31, 338773]\nThe factors of 72382977 are [72382977, 24127659, 8042553, 2680851, 893617, 167, 5351]\nThe factors of 25958899 are [25958899, 47, 552317]\nThe factors of 308924690 are [154462345, 5, 30892469]\nThe factors of 420843027 are [420843027, 140281009, 11, 12752819, 19, 671201]\nThe factors of 281111458 are [140555729]\nThe factors of 455313604 are [113828401, 149, 763949, 271, 2819]\nThe factors of 407812437 are [407812437, 135937479, 45312493, 2531, 17903]\nThe factors of 462078605 are [462078605, 5, 92415721, 29, 3186749]\nThe factors of 87122291 are [87122291, 59, 1476649]\nThe factors of 495180397 are [495180397]\nProgram Executed in 141.28233150000005\n"
     ]
    }
   ],
   "source": [
    "import timeit\n",
    "start = timeit.default_timer()\n",
    "\n",
    "to_factor = [ random.randint(10000000, 500000000) for i in range(20)]\n",
    "results = pool.map(pro.prime_factor, to_factor)\n",
    "for value, factors in zip(to_factor, results):\n",
    "    print(\"The factors of {} are {}\".format(value, factors))\n",
    "\n",
    "stop = timeit.default_timer()\n",
    "execution_time = stop - start\n",
    "print(\"Program Executed in \"+str(execution_time))"
   ]
  },
  {
   "cell_type": "code",
   "execution_count": 12,
   "metadata": {},
   "outputs": [
    {
     "output_type": "execute_result",
     "data": {
      "text/plain": [
       "0.36428571428571427"
      ]
     },
     "metadata": {},
     "execution_count": 12
    }
   ],
   "source": [
    "51/140\n"
   ]
  },
  {
   "cell_type": "code",
   "execution_count": null,
   "metadata": {},
   "outputs": [],
   "source": []
  }
 ]
}