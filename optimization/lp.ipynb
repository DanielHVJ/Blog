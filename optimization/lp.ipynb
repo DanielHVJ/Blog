{
 "cells": [
  {
   "cell_type": "markdown",
   "metadata": {},
   "source": [
    "# Public spending efficiency in the Regional Government of Madrid after Covid-19\n",
    "\n",
    "\n",
    "## Daniel H. Vedia-Jerez\n"
   ]
  },
  {
   "cell_type": "markdown",
   "metadata": {},
   "source": [
    "## Abstract\n",
    "\n",
    "This document proposes an experiment of optimal public expenditure under the economic recession of the Covid-19. The empirical part is based on a linear optimization model. We review the public expenditure of the Regional Government of Madrid; we propose a possible ‘stimulus spending’ package to battle the economic recession after the Covid-19. The linear optimization formula is expressed as a revision of the public budget with sufficient statistics of the expenditure, on the other hand, we propose to strengthen: the budget on health, education, and social policies, and other expenditures efficiently to increase economic growth in the following years.\n"
   ]
  },
  {
   "cell_type": "markdown",
   "metadata": {},
   "source": [
    "## 1. Reviewing the efficient stimulus"
   ]
  },
  {
   "cell_type": "markdown",
   "metadata": {},
   "source": [
    "Empirical evidence suggests that policy simulations show that reducing allocations for secondary education and correspondingly increasing allocations of public education expenses for higher education, produce monotonically decreasing growth if an expansion of higher education does not foster technological progress. On the other hand, if higher education is well integrated with technological innovation, the former can become a powerful engine of inclusive growth. Moreover, Gonand et al. (2009) highlight that efficiency gains in education spending will have large effects on GDP in the long run. A 10% increase in educational output might raise GDP by an estimated 3-6% in the long run in most OECD countries. \n",
    "\n",
    "\n",
    "However, economic growth is not monotonically increasing with respect to expenditures on higher education when the latter is closely linked with technological innovation. Further, there are other important expenditures as health and economic promotion policies.\n",
    "\n",
    "\n",
    "```See: Frédéric Gonand, Robert Price and Douglas Sutherland (2009), “Improving public spending efficiency in primary and secondary education”. OECD Journal: Economic Studies 2009(1):4-4.``` "
   ]
  },
  {
   "cell_type": "markdown",
   "metadata": {},
   "source": [
    "For economic policymakers, ‘it is important to know how far a given economic sector can be expected to increase its output by simply increasing its efficiency, without absorbing further resources’. The effectiveness of public expenditure is more difficult to assess than efficiency since the outcome is influenced by political choices. The distinction between output and outcome is often blurred and the outcome is used in a substitutable manner. For example, the outputs of an education system are often measured in terms of performance, while efficiency in transports, could be measure in speed travel and environment cost. The effectiveness shows the success of the resources used in achieving the objectives set.\n",
    "\n",
    "\n",
    "This document chooses a narrower approach and considers the public spending allocated to the production of a given public service, like public spending on health, education, or infrastructure as a measure of input. Although policymakers are interested in the outcome, like increasing economic growth, it is only partly under their direct influence and not always achievable within one political cycle. Against the background of efficiency and effectiveness analyses, it is important to scrutinize both large spending items, like social protection, and small, but growth-enhancing ones. As regards the latter, even if the spending items account for a small share of total spending efficiently, they can have a major impact on the performance of an economy.\n"
   ]
  },
  {
   "cell_type": "markdown",
   "metadata": {},
   "source": [
    "## 2.\tCreating the optimized model\n",
    "\n",
    "\n",
    "The goal of this document is to help policymakers to structure and increase the efficiency of financial resources while maintaining budget equilibrium in an increasingly indebted regional economy. We also developed a fuzzy method for applying the optimization model using different scenarios that were simulated using the budget of the previous economic recession (2013/2011) , and the budget from 2016, which reflects a higher increment in the budget and economic activity in general. \n",
    "\n",
    "```We consider the budgets of 2011 and 2013, because the fiscal adjustments started in 2010/2011, an officially the budget expenditure increases again in 2016, also we have to consider the data availability since there is no official data before 2011. Among the limitations, previous fiscal budgets are not in excel format so we cannot consider disaggregated chapters.```"
   ]
  },
  {
   "cell_type": "markdown",
   "metadata": {},
   "source": [
    "### 2.1\tThe problem structures \n",
    "\n",
    "\n",
    "In its simplest form, the public financing plan allocation problem can be formulated as a linear program, that was structured using the 14 main general accounts of the Community of Madrid Financial Plan for 2019, which is the latest approved budget. But it was much practical to reduce the number of accounts to 8, we gather together the following accounts and separate the Health services in two: Health central services and the 11 mayor hospitals for the Covid–19: ```Hosp.U. La Paz/Carlos III, Hosp.U.12 De Octubre, Hosp.U. Ramón y Cajal, Hosp. Clínico, Hosp.U. La Princesa, Hosp.U. Pta. De Hierro, Hosp.U. Getafe, Hosp.U. Severo Ochoa, Hosp.U. Ppe. De Ast., Hosp.G.U.G. Marañón, Hosp.U. Inf.Leonor.```\n",
    "\n",
    "\n",
    "1.\tExecutive and Assembly + Justice\n",
    "2.\tEducation first and second. level + Educ. Scholarships + University + R&D\n",
    "3.\tEmployment policies + Social policies and Family\n",
    "4.\tHealth and central services \n",
    "5.\t11 mayor hospitals Covid–19\n",
    "6.\tCulture, Tourism, and Sports + Environment\n",
    "7.\tEconomy, Finance + Transports and housing\n",
    "8.\tDebt\n"
   ]
  },
  {
   "cell_type": "markdown",
   "metadata": {},
   "source": [
    "### 2.2\tLinear optimization model\n",
    "\n",
    "We performed an extensive validation across all the options that could be selected. The validation was an exhaustive but critical effort because the results of the optimization included all the variables, so we also decided to make different assumptions to strengthen our results. In that way, we constructed three different scenarios:\n",
    "\n",
    "\n",
    "i)\t_The first includes the current values of each account for 2019 as accorded to the Financial Plan._\n",
    "\n",
    "ii)\t_Second, we propose an alternative version, in case of an economic recession, to do this we revise the Financial Plans from 2011-2016, considering its history and evolution, we changed the values in the objective function and some of the restrictions._\n",
    "\n",
    "iii)\t_The last one is the fuzzy model, we took into account the additional resources from the Central Government. Specifically, 10,000€ M. will be used to cover health expenses, 1,000€ M. for social spending, and education that will be distributed according to population criteria. Finally, the 5,000€ M. destined to alleviate the reduction in their resources. Additionally, fiscal deficit (debt) could be increased by 0.2%, we assume Madrid will take around the 3,400€ M. of these additional resources._\n"
   ]
  },
  {
   "cell_type": "markdown",
   "metadata": {},
   "source": [
    "Within the executive budget, we introduce the following basic constraints for the financial plan system:\n",
    "\n",
    "C1)  Do not exceed the budget for ‘less important’ sectors (culture and environment);  \n",
    "\n",
    "C2)  Do not exceed size expenditure for the General administration;\n",
    "\n",
    "C3)  Do not increase public debt for two years, during the economic recession of 2008, debt increases from 1,067€ M. to 2,909€ M.;\n",
    "\n",
    "C4)  Possibly to increase the Health assistance budget for Covid-19,  \n",
    "\n",
    "C5)  This is also an opportunity to increase the Education + R&D budget;   \n",
    "\n",
    "C6)  To battle against the economic downturn we need additional expenditure on employment formation and social protection.\n"
   ]
  },
  {
   "cell_type": "markdown",
   "metadata": {},
   "source": [
    "We developed some ‘sensitivity’ matrices that reflect the change for the different categories across the four years considered, total expenditure, and its value over the total income of the regional government, the matrices can be routinely updated as economic conditions change. We developed two optimized models for the different types of expenditure categories, then we compared the first optimized scenario with a fuzzy optimized model.\n",
    "\n",
    "Under the first two scenarios, we varied several key assumptions and combinations that corresponded to each economic situation. For the 1st model, we assume _(i) the values of the objective function corresponding to a scenario without a recession and no additional expenditure; for the 2nd model, (ii) the previous values were according to the previous economic recession, and we also changed the restrictions._ \n",
    "\n",
    "We introduce Equation 1 and its restrictions for the 1st model, later we will also include the equations for the fuzzy optimized model. \n"
   ]
  },
  {
   "cell_type": "markdown",
   "metadata": {},
   "source": [
    "Max: 2.7*E.A.Just + 16.15*A.Educ + 2.1*Soc.emp + 18.3*HCS + 17.2*HCov + 0.09*ECT + 1.5*EcoTr + 15.9*Debt\n",
    "\n",
    "$s.a.$\n",
    "\n",
    "$E.A.Just + A.Educ + Soc.Emp + HCS + HCov + ECT + EcoTr + Debt \\leq 23873$\n",
    "\n",
    "0.07*E.A.Just -0.93*A.Educ - 0.93*Soc.Emp - 0.93*HCS - 0.93*HCov - 0.93*ECT - 0.93*EcoTr - 0.93Debt $\\leq$ 0\n",
    "\n",
    "$E.A.Just \\leq 6024$\n",
    "\n",
    "$Soc.Emp \\leq 2302$\n",
    "\n",
    "$HCS + HCov \\leq 8109$\n",
    "\n",
    "-0.98*E.A.Just - 0.98*A.Educ - 0.98*Soc.Emp - 0.98*HCS - 0.98*HCov + 0.02*ECT - 0.98*EcoTr - 0.98*Debt $\\leq$ 0\n",
    "\n",
    "$EcoTr \\leq 2280$\n",
    "\n",
    "$Debt \\leq 3626$"
   ]
  },
  {
   "cell_type": "markdown",
   "metadata": {},
   "source": [
    "Where the abbreviations of the formula are the following:\n",
    "\n",
    "Executive, Assembly and Justice (E.A.Just), Public Debt (Debt), Education, University + R&D and Education scholarships (A.Educ), Social and employment policies (Soc.emp), Health Central services (HCS), top 11 Hospitals for Covid-19 pandemic (HCov), Environment, Culture & Tourism (ECT), Economy and Transports (Eco&Tr). \n",
    "\n",
    "Due to the low weight of some expenditure chapters to the total, we gather together some of them, for example, _Executive and Assembly + Justice_, and we sum together all the education chapters: _Education, University + R&D, scholarships_."
   ]
  },
  {
   "cell_type": "markdown",
   "metadata": {},
   "source": [
    "The objective function values are the percentage of chapter expenditures divided by the Gross Domestic Product (GDP) of Madrid for 2018 (1st model) and 2011 (2nd model), additionally, for Education, Health, Transports + housing, Culture, we take the mean of its share on GDP and its respective percentage expenditures on GDP. Regarding the Public Debt, we assume it with a negative sign on the objective function, with -0.12 for the 1st model, and -0.15 for the 2nd model, we assume a moderate increment of 2.5%, since Madrid is already indebted.\n",
    "\n",
    "•\tEq. (1) introduces the scenario with a growth episode, and with the restrictions that allocations for Executive+Justice, Environment+Culture do not exceed 7% and 2% of the total budget respectively.\n",
    "\n",
    "•\tFor the 2nd model, the restrictions are: Executive+Justice, Environment+Culture with a restriction that both don’t surpass the 8%, all education couldn’t pass the 23% of the total, health increases a 2.5%, and the expenditure on Economy and Transports is around the 10%. We assume that the total budget has an increase of 2.3%.\n"
   ]
  },
  {
   "cell_type": "markdown",
   "metadata": {},
   "source": [
    "### 2.3\tOptimized values for the fuzzy model\n",
    "\n",
    "In this section we introduce the optimization for the fuzzy model, we modeled uncertainty by combining the optimization model of the previous system with a fuzzy model that optimizes parameters under softening some of the restrictions (this is associated with the concept of memberships function).\n",
    "\n",
    "It is important to remember that we change 1st model restrictions, here we took into account the additional resources from the Central Government to lighten the budget stress against the pandemic. We will consider the 10,000€ M. that will be used to cover health expenses, 1,000€ M. for social spending, and education that will be distributed according to population criteria, other 5,000€ M. destined to alleviate the reduction in their resources. Additionally, fiscal deficit (Debt) could be increased by 0.2%, we assume Madrid will take around the 3,400€ M. of the total – almost 21.25%-.\n",
    "\n",
    "With that information, we introduce a left trapezoidal fuzzy membership function only for those chapters that will receive the additional resources, that is Education, Health and, employment and social spending - plus a right trapezoidal membership only for Total Budget and Public Debt, see Equation (2).\n"
   ]
  },
  {
   "cell_type": "markdown",
   "metadata": {},
   "source": [
    "$ Max: \\alpha$\n",
    "\n",
    "$s.a.$\n",
    "\n",
    "0.05*E.A.Just + 0.18*A.Educ + 0.07*Soc.Emp + 0.1*HCS + 0.14*HCov + 0.04*ECT + 0.1*EcoTr - 0.12Debt $\\leq$ 24936\n",
    "\n",
    "$E.A.Just \\leq 1089$\n",
    "\n",
    "$A.Educ +213*\\alpha \\leq 6024$\n",
    "\n",
    "$Soc.Emp \\leq 2302$\n",
    "\n",
    "$HCS + HCov \\leq 8109$\n",
    "\n",
    "$ECT \\leq 2281$\n",
    "\n",
    "$EcoTr \\leq 2280$\n",
    "\n",
    "$Debt \\leq 3626$"
   ]
  },
  {
   "cell_type": "markdown",
   "metadata": {
    "tags": []
   },
   "source": [
    "### 3.\tResults and main conclusions\n",
    "\n",
    "This document chooses a narrmver approach considering the public spending allocated to a given public service. Our results show the following tentative conclusions.\n",
    "\n",
    "Table 1 shows the results for each model, in the first column we can sec that in growth episodes (no Covid-19), the distribution of expenditure would almost the same as the Official Financial plan, however with more investment in Social policies and increasing debt payments (it make sense to reduce debt under economic growth episodes), and considerable reductions in transportation and education. On the other hand, considering the budget allocation under economic recession (2010-2011), almost all budget allocation receives less investment, except for Health, transportation, and environment.\n",
    "\n",
    "```Health expenditure increases almost 2.3% during the recession, and the investment in environment plan in 2011 was of 602€ Mill. in 2019 it was of 216€ Mill. It makes sense that the 2nd model considers a higher allocation for Culture and Environment since the values for the 2nd model considered the Financial plans of 2011-2013.```\n",
    "\n",
    "Considering the results for the fuzzy model taking the values of the 1st model plus the additional resources, we assume we got. the maximum of resources that policymakers could invest after Covid-19 considering a possible outbreak of the virus, it makes sense, increase Health and, Employment and Social policies for a most likely economic recession, and additionally, it is an opportunity for the first. time to invest. in Education and R&D.\n",
    "\n",
    "Concluding, although the results arc tentative, it. also introduces good rules of budget management, that is, under growth episodes, you could increase public debt, and in recession, don't get overindebted, reviewing the Financial plans, Madrid never recovered its income budget, it just contracted debt . Also, it attracts my attention that the budget for a green policy is around 200€ Mill. for the next years, the third part of 2010.\n",
    "\n",
    "After t his exercise for Public Budget, for the next future, it could be more interesting to take disaggregatcd information of each chapter to probably get a more precise idea of how we can increase public expenditure efficiency."
   ]
  },
  {
   "cell_type": "code",
   "execution_count": 2,
   "metadata": {},
   "outputs": [],
   "source": [
    "import numpy as np\n",
    "from scipy.optimize import linprog\n",
    "#import cvxopt"
   ]
  },
  {
   "cell_type": "markdown",
   "metadata": {
    "pycharm": {
     "name": "#%% md\n"
    }
   },
   "source": [
    "##### A) Growth episodes, no Covid-19"
   ]
  },
  {
   "cell_type": "code",
   "execution_count": 2,
   "metadata": {},
   "outputs": [],
   "source": [
    "obj = [-0.05,-0.18,-0.07,-0.10,-0.14,-0.04,-0.1,0.12]\n",
    "\n",
    "lhs_ineq = [[1,1,1,1,1,1,1,1],\n",
    "              [1,0,0,0,0,0,0,0],\n",
    "              [-.25,.75,-.25,-.25,-.25,-.25,-.25,-.25],\n",
    "              [-.11,-.11,.89,-.11,-.11,-.11,-.11,-.11],\n",
    "              [ 0,0,0,1,1,0,0,0],\n",
    "              [0,0,0,0,0,1,0,0],\n",
    "              [-.14,-.14,-.14,-.14,-.14,-.14,.86,-.14],\n",
    "              [0,0,0,0,0,0,0,1]]\n",
    "\n",
    "rhs_ineq = [23873,1098,0,0,8109,432,0,3626]"
   ]
  },
  {
   "cell_type": "code",
   "execution_count": 3,
   "metadata": {},
   "outputs": [
    {
     "data": {
      "text/plain": "     con: array([], dtype=float64)\n     fun: -2524.0691000000006\n message: 'Optimization terminated successfully.'\n     nit: 10\n   slack: array([0.00000000e+00, 0.00000000e+00, 0.00000000e+00, 2.27373675e-13,\n       0.00000000e+00, 0.00000000e+00, 4.54747351e-13, 1.32850000e+03])\n  status: 0\n success: True\n       x: array([1098.  , 5968.25, 2626.03,    0.  , 8109.  ,  432.  , 3342.22,\n       2297.5 ])"
     },
     "execution_count": 3,
     "metadata": {},
     "output_type": "execute_result"
    }
   ],
   "source": [
    "opt = linprog(c=obj, A_ub=lhs_ineq, b_ub=rhs_ineq,method=\"simplex\")\n",
    "opt"
   ]
  },
  {
   "cell_type": "markdown",
   "metadata": {
    "pycharm": {
     "name": "#%% md\n"
    }
   },
   "source": [
    "##### B) Economic recession model"
   ]
  },
  {
   "cell_type": "code",
   "execution_count": 12,
   "outputs": [],
   "source": [
    "obj_1 = [-0.05,-0.13,-0.07,-0.12,-0.13,-0.038,-0.1,0.15]\n",
    "\n",
    "lhs_ineq_1 = [[1,1,1,1,1,1,1,1],\n",
    "              [1,0,0,0,0,0,0,0],\n",
    "              [-.23,.77,-.23,-.23,-.23,-.23,-.23,-.23],\n",
    "              [-.11,-.11,.89,-.11,-.11,-.11,-.11,-.11],\n",
    "              [0,0,0,1,1,0,0,0],\n",
    "              [0,0,0,0,0,1,0,0],\n",
    "              [-.12,-.12,-.12,-.12,-.12,-.12,.88,-.12],\n",
    "              [0,0,0,0,0,0,0,1]]\n",
    "\n",
    "rhs_ineq_1 = [24422,1035,0,0,8316,610,0,3808]"
   ],
   "metadata": {
    "collapsed": false,
    "pycharm": {
     "name": "#%%\n"
    }
   }
  },
  {
   "cell_type": "code",
   "execution_count": 13,
   "outputs": [
    {
     "data": {
      "text/plain": "     con: array([], dtype=float64)\n     fun: -2070.946296296296\n message: 'Optimization terminated successfully.'\n     nit: 11\n   slack: array([ 5.97570370e+03,  0.00000000e+00,  1.13686838e-13, -4.54747351e-13,\n        0.00000000e+00,  0.00000000e+00,  0.00000000e+00,  3.80800000e+03])\n  status: 0\n success: True\n       x: array([1035.        , 4242.64814815, 2029.09259259,    0.        ,\n       8316.        ,  610.        , 2213.55555556,    0.        ])"
     },
     "execution_count": 13,
     "metadata": {},
     "output_type": "execute_result"
    }
   ],
   "source": [
    "opt_1 = linprog(c=obj_1, A_ub=lhs_ineq_1, b_ub=rhs_ineq_1, method=\"simplex\")\n",
    "opt_1"
   ],
   "metadata": {
    "collapsed": false,
    "pycharm": {
     "name": "#%%\n"
    }
   }
  },
  {
   "cell_type": "markdown",
   "source": [],
   "metadata": {
    "collapsed": false,
    "pycharm": {
     "name": "#%% md\n"
    }
   }
  },
  {
   "cell_type": "code",
   "execution_count": 37,
   "outputs": [],
   "source": [
    "obj_f = [0,0,0,0,0,0,0,0,1]\n",
    "\n",
    "lhs_ineq_f = [[.05,.18,.07,.10,.14,.04,.1,-.12,1063],\n",
    "              [1,0,0,0,0,0,0,0,0],\n",
    "              [0,1,0,0,0,0,0,0,-213],\n",
    "              [0,0,1,0,0,0,0,0,-213],\n",
    "              [0,0,0,1,1,0,0,0,-2125],\n",
    "              [0,0,0,0,0,1,0,0,0],\n",
    "              [0,0,0,0,0,0,1,0,0],\n",
    "              [0,0,0,0,0,0,0,1,73],\n",
    "              [0,0,0,0,0,0,0,1]]\n",
    "\n",
    "rhs_ineq_f = [24936,1098,6024,2302,8109,432,2281,3699,1]"
   ],
   "metadata": {
    "collapsed": false,
    "pycharm": {
     "name": "#%%\n"
    }
   }
  },
  {
   "cell_type": "code",
   "execution_count": 39,
   "outputs": [
    {
     "ename": "TypeError",
     "evalue": "Invalid input for linprog: A_ub must be a 2-D array of numerical values",
     "output_type": "error",
     "traceback": [
      "\u001B[1;31m---------------------------------------------------------------------------\u001B[0m",
      "\u001B[1;31mValueError\u001B[0m                                Traceback (most recent call last)",
      "\u001B[1;32m~\\AppData\\Roaming\\Python\\Python38\\site-packages\\scipy\\optimize\\_linprog_util.py\u001B[0m in \u001B[0;36m_clean_inputs\u001B[1;34m(lp)\u001B[0m\n\u001B[0;32m    277\u001B[0m     \u001B[1;32mtry\u001B[0m\u001B[1;33m:\u001B[0m\u001B[1;33m\u001B[0m\u001B[1;33m\u001B[0m\u001B[0m\n\u001B[1;32m--> 278\u001B[1;33m         \u001B[0mA_ub\u001B[0m \u001B[1;33m=\u001B[0m \u001B[0m_format_A_constraints\u001B[0m\u001B[1;33m(\u001B[0m\u001B[0mA_ub\u001B[0m\u001B[1;33m,\u001B[0m \u001B[0mn_x\u001B[0m\u001B[1;33m,\u001B[0m \u001B[0msparse_lhs\u001B[0m\u001B[1;33m=\u001B[0m\u001B[0msparse_lhs\u001B[0m\u001B[1;33m)\u001B[0m\u001B[1;33m\u001B[0m\u001B[1;33m\u001B[0m\u001B[0m\n\u001B[0m\u001B[0;32m    279\u001B[0m     \u001B[1;32mexcept\u001B[0m \u001B[0mValueError\u001B[0m \u001B[1;32mas\u001B[0m \u001B[0me\u001B[0m\u001B[1;33m:\u001B[0m\u001B[1;33m\u001B[0m\u001B[1;33m\u001B[0m\u001B[0m\n",
      "\u001B[1;32m~\\AppData\\Roaming\\Python\\Python38\\site-packages\\scipy\\optimize\\_linprog_util.py\u001B[0m in \u001B[0;36m_format_A_constraints\u001B[1;34m(A, n_x, sparse_lhs)\u001B[0m\n\u001B[0;32m    153\u001B[0m     \u001B[1;32melse\u001B[0m\u001B[1;33m:\u001B[0m\u001B[1;33m\u001B[0m\u001B[1;33m\u001B[0m\u001B[0m\n\u001B[1;32m--> 154\u001B[1;33m         \u001B[1;32mreturn\u001B[0m \u001B[0mnp\u001B[0m\u001B[1;33m.\u001B[0m\u001B[0marray\u001B[0m\u001B[1;33m(\u001B[0m\u001B[0mA\u001B[0m\u001B[1;33m,\u001B[0m \u001B[0mdtype\u001B[0m\u001B[1;33m=\u001B[0m\u001B[0mfloat\u001B[0m\u001B[1;33m,\u001B[0m \u001B[0mcopy\u001B[0m\u001B[1;33m=\u001B[0m\u001B[1;32mTrue\u001B[0m\u001B[1;33m)\u001B[0m\u001B[1;33m\u001B[0m\u001B[1;33m\u001B[0m\u001B[0m\n\u001B[0m\u001B[0;32m    155\u001B[0m \u001B[1;33m\u001B[0m\u001B[0m\n",
      "\u001B[1;31mValueError\u001B[0m: setting an array element with a sequence. The requested array has an inhomogeneous shape after 1 dimensions. The detected shape was (9,) + inhomogeneous part.",
      "\nThe above exception was the direct cause of the following exception:\n",
      "\u001B[1;31mTypeError\u001B[0m                                 Traceback (most recent call last)",
      "\u001B[1;32m~\\AppData\\Local\\Temp/ipykernel_4332/1480127920.py\u001B[0m in \u001B[0;36m<module>\u001B[1;34m\u001B[0m\n\u001B[1;32m----> 1\u001B[1;33m \u001B[0mopt_f\u001B[0m \u001B[1;33m=\u001B[0m \u001B[0mlinprog\u001B[0m\u001B[1;33m(\u001B[0m\u001B[0mc\u001B[0m\u001B[1;33m=\u001B[0m\u001B[0mobj_f\u001B[0m\u001B[1;33m,\u001B[0m \u001B[0mA_ub\u001B[0m\u001B[1;33m=\u001B[0m\u001B[0mlhs_ineq_f\u001B[0m\u001B[1;33m,\u001B[0m \u001B[0mb_ub\u001B[0m\u001B[1;33m=\u001B[0m\u001B[0mrhs_ineq_f\u001B[0m\u001B[1;33m,\u001B[0m \u001B[0mmethod\u001B[0m\u001B[1;33m=\u001B[0m\u001B[1;34m\"simplex\"\u001B[0m\u001B[1;33m)\u001B[0m\u001B[1;33m\u001B[0m\u001B[1;33m\u001B[0m\u001B[0m\n\u001B[0m\u001B[0;32m      2\u001B[0m \u001B[0mopt_f\u001B[0m\u001B[1;33m\u001B[0m\u001B[1;33m\u001B[0m\u001B[0m\n",
      "\u001B[1;32m~\\AppData\\Roaming\\Python\\Python38\\site-packages\\scipy\\optimize\\_linprog.py\u001B[0m in \u001B[0;36mlinprog\u001B[1;34m(c, A_ub, b_ub, A_eq, b_eq, bounds, method, callback, options, x0)\u001B[0m\n\u001B[0;32m    589\u001B[0m \u001B[1;33m\u001B[0m\u001B[0m\n\u001B[0;32m    590\u001B[0m     \u001B[0mlp\u001B[0m \u001B[1;33m=\u001B[0m \u001B[0m_LPProblem\u001B[0m\u001B[1;33m(\u001B[0m\u001B[0mc\u001B[0m\u001B[1;33m,\u001B[0m \u001B[0mA_ub\u001B[0m\u001B[1;33m,\u001B[0m \u001B[0mb_ub\u001B[0m\u001B[1;33m,\u001B[0m \u001B[0mA_eq\u001B[0m\u001B[1;33m,\u001B[0m \u001B[0mb_eq\u001B[0m\u001B[1;33m,\u001B[0m \u001B[0mbounds\u001B[0m\u001B[1;33m,\u001B[0m \u001B[0mx0\u001B[0m\u001B[1;33m)\u001B[0m\u001B[1;33m\u001B[0m\u001B[1;33m\u001B[0m\u001B[0m\n\u001B[1;32m--> 591\u001B[1;33m     \u001B[0mlp\u001B[0m\u001B[1;33m,\u001B[0m \u001B[0msolver_options\u001B[0m \u001B[1;33m=\u001B[0m \u001B[0m_parse_linprog\u001B[0m\u001B[1;33m(\u001B[0m\u001B[0mlp\u001B[0m\u001B[1;33m,\u001B[0m \u001B[0moptions\u001B[0m\u001B[1;33m)\u001B[0m\u001B[1;33m\u001B[0m\u001B[1;33m\u001B[0m\u001B[0m\n\u001B[0m\u001B[0;32m    592\u001B[0m     \u001B[0mtol\u001B[0m \u001B[1;33m=\u001B[0m \u001B[0msolver_options\u001B[0m\u001B[1;33m.\u001B[0m\u001B[0mget\u001B[0m\u001B[1;33m(\u001B[0m\u001B[1;34m'tol'\u001B[0m\u001B[1;33m,\u001B[0m \u001B[1;36m1e-9\u001B[0m\u001B[1;33m)\u001B[0m\u001B[1;33m\u001B[0m\u001B[1;33m\u001B[0m\u001B[0m\n\u001B[0;32m    593\u001B[0m \u001B[1;33m\u001B[0m\u001B[0m\n",
      "\u001B[1;32m~\\AppData\\Roaming\\Python\\Python38\\site-packages\\scipy\\optimize\\_linprog_util.py\u001B[0m in \u001B[0;36m_parse_linprog\u001B[1;34m(lp, options)\u001B[0m\n\u001B[0;32m    989\u001B[0m     \u001B[0msolver_options\u001B[0m\u001B[1;33m,\u001B[0m \u001B[0mA_ub\u001B[0m\u001B[1;33m,\u001B[0m \u001B[0mA_eq\u001B[0m \u001B[1;33m=\u001B[0m \u001B[0m_check_sparse_inputs\u001B[0m\u001B[1;33m(\u001B[0m\u001B[0msolver_options\u001B[0m\u001B[1;33m,\u001B[0m \u001B[0mlp\u001B[0m\u001B[1;33m.\u001B[0m\u001B[0mA_ub\u001B[0m\u001B[1;33m,\u001B[0m \u001B[0mlp\u001B[0m\u001B[1;33m.\u001B[0m\u001B[0mA_eq\u001B[0m\u001B[1;33m)\u001B[0m\u001B[1;33m\u001B[0m\u001B[1;33m\u001B[0m\u001B[0m\n\u001B[0;32m    990\u001B[0m     \u001B[1;31m# Convert lists to numpy arrays, etc...\u001B[0m\u001B[1;33m\u001B[0m\u001B[1;33m\u001B[0m\u001B[1;33m\u001B[0m\u001B[0m\n\u001B[1;32m--> 991\u001B[1;33m     \u001B[0mlp\u001B[0m \u001B[1;33m=\u001B[0m \u001B[0m_clean_inputs\u001B[0m\u001B[1;33m(\u001B[0m\u001B[0mlp\u001B[0m\u001B[1;33m.\u001B[0m\u001B[0m_replace\u001B[0m\u001B[1;33m(\u001B[0m\u001B[0mA_ub\u001B[0m\u001B[1;33m=\u001B[0m\u001B[0mA_ub\u001B[0m\u001B[1;33m,\u001B[0m \u001B[0mA_eq\u001B[0m\u001B[1;33m=\u001B[0m\u001B[0mA_eq\u001B[0m\u001B[1;33m)\u001B[0m\u001B[1;33m)\u001B[0m\u001B[1;33m\u001B[0m\u001B[1;33m\u001B[0m\u001B[0m\n\u001B[0m\u001B[0;32m    992\u001B[0m     \u001B[1;32mreturn\u001B[0m \u001B[0mlp\u001B[0m\u001B[1;33m,\u001B[0m \u001B[0msolver_options\u001B[0m\u001B[1;33m\u001B[0m\u001B[1;33m\u001B[0m\u001B[0m\n\u001B[0;32m    993\u001B[0m \u001B[1;33m\u001B[0m\u001B[0m\n",
      "\u001B[1;32m~\\AppData\\Roaming\\Python\\Python38\\site-packages\\scipy\\optimize\\_linprog_util.py\u001B[0m in \u001B[0;36m_clean_inputs\u001B[1;34m(lp)\u001B[0m\n\u001B[0;32m    278\u001B[0m         \u001B[0mA_ub\u001B[0m \u001B[1;33m=\u001B[0m \u001B[0m_format_A_constraints\u001B[0m\u001B[1;33m(\u001B[0m\u001B[0mA_ub\u001B[0m\u001B[1;33m,\u001B[0m \u001B[0mn_x\u001B[0m\u001B[1;33m,\u001B[0m \u001B[0msparse_lhs\u001B[0m\u001B[1;33m=\u001B[0m\u001B[0msparse_lhs\u001B[0m\u001B[1;33m)\u001B[0m\u001B[1;33m\u001B[0m\u001B[1;33m\u001B[0m\u001B[0m\n\u001B[0;32m    279\u001B[0m     \u001B[1;32mexcept\u001B[0m \u001B[0mValueError\u001B[0m \u001B[1;32mas\u001B[0m \u001B[0me\u001B[0m\u001B[1;33m:\u001B[0m\u001B[1;33m\u001B[0m\u001B[1;33m\u001B[0m\u001B[0m\n\u001B[1;32m--> 280\u001B[1;33m         raise TypeError(\n\u001B[0m\u001B[0;32m    281\u001B[0m             \u001B[1;34m\"Invalid input for linprog: A_ub must be a 2-D array \"\u001B[0m\u001B[1;33m\u001B[0m\u001B[1;33m\u001B[0m\u001B[0m\n\u001B[0;32m    282\u001B[0m             \"of numerical values\") from e\n",
      "\u001B[1;31mTypeError\u001B[0m: Invalid input for linprog: A_ub must be a 2-D array of numerical values"
     ]
    }
   ],
   "source": [
    "opt_f = linprog(c=obj_f, A_ub=lhs_ineq_f, b_ub=rhs_ineq_f, method=\"simplex\")\n",
    "opt_f"
   ],
   "metadata": {
    "collapsed": false,
    "pycharm": {
     "name": "#%%\n"
    }
   }
  },
  {
   "cell_type": "code",
   "execution_count": 26,
   "metadata": {
    "collapsed": false,
    "jupyter": {
     "outputs_hidden": false
    },
    "pycharm": {
     "name": "#%%\n"
    }
   },
   "outputs": [],
   "source": [
    "from pulp import GLPK\n",
    "from pulp import LpMaximize, LpProblem, LpStatus, lpSum, LpVariable"
   ]
  },
  {
   "cell_type": "code",
   "execution_count": 14,
   "metadata": {},
   "outputs": [],
   "source": [
    "# Define the model\n",
    "model = LpProblem(name=\"resource-allocation\", sense=LpMaximize)\n",
    "\n",
    "# Define the decision variables\n",
    "x = {i: LpVariable(name=f\"x{i}\", lowBound=0) for i in range(1, 9)}\n",
    "\n",
    "# Add constraints\n",
    "model += (lpSum(x.values()) <= 23873, \"total\")\n",
    "model += (1 * x[1] <= 1089, \"Exec\")\n",
    "model += (-.25*x[1]+.75*x[2]+-.25*x[3]+-.25*x[4]+-.25*x[5]+-.25*x[6]+-.25*x[7]+-.25*x[8] <= 0, \"Educ\")\n",
    "model += (-.11*x[1]+-.11*x[2]+.89*x[3]+-.11*x[4]+-.11*x[5]+-.11*x[6]+-.11*x[7]+-.11*x[8] <= 0, \"Soc. Pol\")\n",
    "model += (x[4]+x[5] <= 8190, \"Health\")\n",
    "model += (x[6] <= 432, \"Culture\")\n",
    "model += (-.14*x[1]+-.14*x[2]+-.14*x[3]+-.14*x[4]+-.14*x[5]+-.14*x[6]+.86*x[7]+-.14*x[8] <= 0, \"Econ\")\n",
    "model += (x[8] <= 3626, \"Debt\")\n",
    "\n",
    "model += 0.05*x[1]+0.18*x[2]+0.07*x[3]+0.10*x[4]+0.14*x[5]+0.04*x[6]+0.1*x[7]-0.12*x[8] \n"
   ]
  },
  {
   "cell_type": "code",
   "execution_count": 15,
   "metadata": {},
   "outputs": [
    {
     "name": "stdout",
     "output_type": "stream",
     "text": [
      "status: 1, Optimal\n",
      "objective: 2543.599100000001\n",
      "x1: 1089.0\n",
      "x2: 5968.25\n",
      "x3: 2626.03\n",
      "x4: 0.0\n",
      "x5: 8190.0\n",
      "x6: 432.0\n",
      "x7: 3342.22\n",
      "x8: 2225.5\n",
      "total: 4.547473508864641e-13\n",
      "Exec: 0.0\n",
      "Educ: -1.1368683772161603e-13\n",
      "Soc._Pol: 1.7053025658242404e-13\n",
      "Health: 0.0\n",
      "Culture: 0.0\n",
      "Econ: -7.958078640513122e-13\n",
      "Debt: -1400.5\n"
     ]
    }
   ],
   "source": [
    "# Solve the optimization problem\n",
    "status = model.solve()\n",
    "\n",
    "# Get the results\n",
    "print(f\"status: {model.status}, {LpStatus[model.status]}\")\n",
    "print(f\"objective: {model.objective.value()}\")\n",
    "\n",
    "for var in x.values():\n",
    "    print(f\"{var.name}: {var.value()}\")\n",
    "\n",
    "for name, constraint in model.constraints.items():\n",
    "    print(f\"{name}: {constraint.value()}\")"
   ]
  },
  {
   "cell_type": "markdown",
   "source": [],
   "metadata": {
    "collapsed": false
   }
  },
  {
   "cell_type": "markdown",
   "source": [
    "##### B) Economic recession model"
   ],
   "metadata": {
    "collapsed": false,
    "pycharm": {
     "name": "#%% md\n"
    }
   }
  },
  {
   "cell_type": "code",
   "execution_count": 35,
   "outputs": [],
   "source": [
    "# Define the model\n",
    "model_1 = LpProblem(name=\"resource-allocation\", sense=LpMaximize)\n",
    "\n",
    "# Define the decision variables\n",
    "x = {i: LpVariable(name=f\"x{i}\", lowBound=0) for i in range(1, 9)}\n",
    "\n",
    "# Add constraints\n",
    "model_1 += (lpSum(x.values()) <= 24422, \"total\")\n",
    "model_1 += (1 * x[1] <= 1035, \"Exec\")\n",
    "model_1 += (-.23*x[1]+.77*x[2]+-.23*x[3]+-.23*x[4]+-.23*x[5]+-.23*x[6]+-.23*x[7]+-.23*x[8] <= 0, \"Educ\")\n",
    "model_1 += (-.11*x[1]+-.11*x[2]+.89*x[3]+-.11*x[4]+-.11*x[5]+-.11*x[6]+-.11*x[7]+-.11*x[8] <= 0, \"Soc. Pol\")\n",
    "model_1 += (x[4]+x[5] <= 8316, \"Health\")\n",
    "model_1 += (x[6] <= 610, \"Culture\")\n",
    "model_1 += (-.12*x[1]+-.12*x[2]+-.12*x[3]+-.12*x[4]+-.12*x[5]+-.12*x[6]+.88*x[7]+-.12*x[8] <= 0, \"Econ\")\n",
    "model_1 += (x[8] <= 3808, \"Debt\")\n",
    "\n",
    "model_1 += 0.05*x[1]+0.13*x[2]+0.07*x[3]+0.12*x[4]+0.13*x[5]+0.038*x[6]+0.1*x[7]-0.15*x[8]"
   ],
   "metadata": {
    "collapsed": false,
    "pycharm": {
     "name": "#%%\n"
    }
   }
  },
  {
   "cell_type": "code",
   "execution_count": 36,
   "outputs": [
    {
     "name": "stdout",
     "output_type": "stream",
     "text": [
      "status: 1, Optimal\n",
      "objective: 2070.946295\n",
      "x1: 1035.0\n",
      "x2: 4242.6481\n",
      "x3: 2029.0926\n",
      "x4: 0.0\n",
      "x5: 8316.0\n",
      "x6: 610.0\n",
      "x7: 2213.5556\n",
      "x8: 0.0\n",
      "total: -5975.703700000002\n",
      "Exec: 0.0\n",
      "Educ: -4.9000000331034244e-05\n",
      "Soc._Pol: 6.99999992548328e-06\n",
      "Health: 0.0\n",
      "Culture: 0.0\n",
      "Econ: 4.399999988891068e-05\n",
      "Debt: -3808.0\n"
     ]
    }
   ],
   "source": [
    "# Solve the optimization problem\n",
    "status = model_1.solve()\n",
    "\n",
    "# Get the results\n",
    "print(f\"status: {model_1.status}, {LpStatus[model_1.status]}\")\n",
    "print(f\"objective: {model_1.objective.value()}\")\n",
    "\n",
    "for var in x.values():\n",
    "    print(f\"{var.name}: {var.value()}\")\n",
    "\n",
    "for name, constraint in model_1.constraints.items():\n",
    "    print(f\"{name}: {constraint.value()}\")"
   ],
   "metadata": {
    "collapsed": false,
    "pycharm": {
     "name": "#%%\n"
    }
   }
  },
  {
   "cell_type": "markdown",
   "source": [
    "##### FUZZY MODEL"
   ],
   "metadata": {
    "collapsed": false,
    "pycharm": {
     "name": "#%% md\n"
    }
   }
  },
  {
   "cell_type": "code",
   "execution_count": 31,
   "metadata": {},
   "outputs": [],
   "source": [
    "# Define the model\n",
    "model_f = LpProblem(name=\"resource-allocation\", sense=LpMaximize)\n",
    "\n",
    "# Define the decision variables\n",
    "x = {i: LpVariable(name=f\"x{i}\", lowBound=0) for i in range(1, 10)}\n",
    "\n",
    "# Add constraints\n",
    "model_f += (lpSum(x.values()) <= 24936, \"total\")\n",
    "model_f += (x[1] <= 1089, \"Exec\")\n",
    "model_f += (x[2]-213*x[9] >= 6024, \"Educ\")\n",
    "model_f += (x[3]-213*x[9] >= 2302, \"Soc. Pol\")\n",
    "model_f += (x[4]+x[5]-2125*x[9] >= 8190, \"Health\")\n",
    "model_f += (x[6] <= 432, \"Culture\")\n",
    "model_f += (x[7] <= 2281, \"Econ\")\n",
    "model_f += (x[8]+73*x[9] <= 3699, \"Debt\")\n",
    "model_f += (x[9] <= 1, \"alpha\")\n",
    "\n",
    "model_f += 1*x[9]"
   ]
  },
  {
   "cell_type": "code",
   "execution_count": 32,
   "metadata": {
    "pycharm": {
     "name": "#%%\n"
    }
   },
   "outputs": [
    {
     "name": "stdout",
     "output_type": "stream",
     "text": [
      "status: 1, Optimal\n",
      "objective: 1.0\n",
      "x1: 0.0\n",
      "x2: 6237.0\n",
      "x3: 2515.0\n",
      "x4: 16183.0\n",
      "x5: 0.0\n",
      "x6: 0.0\n",
      "x7: 0.0\n",
      "x8: 0.0\n",
      "x9: 1.0\n",
      "total: 0.0\n",
      "Exec: -1089.0\n",
      "Educ: 0.0\n",
      "Soc._Pol: 0.0\n",
      "Health: 5868.0\n",
      "Culture: -432.0\n",
      "Econ: -2281.0\n",
      "Debt: -3626.0\n",
      "alpha: 0.0\n"
     ]
    }
   ],
   "source": [
    "# Solve the optimization problem\n",
    "status = model_f.solve()\n",
    "\n",
    "# Get the results\n",
    "print(f\"status: {model_f.status}, {LpStatus[model_f.status]}\")\n",
    "print(f\"objective: {model_f.objective.value()}\")\n",
    "\n",
    "for var in x.values():\n",
    "    print(f\"{var.name}: {var.value()}\")\n",
    "\n",
    "for name, constraint in model_f.constraints.items():\n",
    "    print(f\"{name}: {constraint.value()}\")"
   ]
  }
 ],
 "metadata": {
  "interpreter": {
   "hash": "718505d40c6095cf455717dc3d3e7fcd65c573473480d616d9747244434702c6"
  },
  "kernelspec": {
   "display_name": "fm",
   "language": "python",
   "name": "fm"
  },
  "language_info": {
   "codemirror_mode": {
    "name": "ipython",
    "version": 3
   },
   "file_extension": ".py",
   "mimetype": "text/x-python",
   "name": "python",
   "nbconvert_exporter": "python",
   "pygments_lexer": "ipython3",
   "version": "3.8.11"
  }
 },
 "nbformat": 4,
 "nbformat_minor": 4
}