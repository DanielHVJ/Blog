{
 "cells": [
  {
   "cell_type": "markdown",
   "metadata": {},
   "source": [
    "# Public spending efficiency in the Regional Government of Madrid after Covid-19\n"
   ]
  },
  {
   "cell_type": "markdown",
   "metadata": {},
   "source": [
    "## Abstract\n",
    "\n",
    "This document proposes an experiment of optimal public expenditure under the economic recession of the Covid-19. The empirical part is based on a linear optimization model. We review the public expenditure of the Regional Government of Madrid; we propose a possible ‘stimulus spending’ package to battle the economic recession after the Covid-19. The linear optimization formula is expressed as a revision of the public budget with sufficient statistics of the expenditure, on the other hand, we propose to strengthen: the budget on health, education, and social policies, and other expenditures efficiently to increase economic growth in the following years.\n"
   ]
  },
  {
   "cell_type": "markdown",
   "metadata": {},
   "source": [
    "## 1. Reviewing the efficient stimulus"
   ]
  },
  {
   "cell_type": "markdown",
   "metadata": {},
   "source": [
    "Empirical evidence suggests that policy simulations show that reducing allocations for secondary education and correspondingly increasing allocations of public education expenses for higher education, produce monotonically decreasing growth if an expansion of higher education does not foster technological progress. On the other hand, if higher education is well integrated with technological innovation, the former can become a powerful engine of inclusive growth. Moreover, Gonand et al. (2009) highlight that efficiency gains in education spending will have large effects on GDP in the long run. A 10% increase in educational output might raise GDP by an estimated 3-6% in the long run in most OECD countries. \n",
    "\n",
    "\n",
    "However, economic growth is not monotonically increasing with respect to expenditures on higher education when the latter is closely linked with technological innovation. Further, there are other important expenditures as health and economic promotion policies.\n",
    "\n",
    "\n",
    "```See: Frédéric Gonand, Robert Price and Douglas Sutherland (2009), “Improving public spending efficiency in primary and secondary education”. OECD Journal: Economic Studies 2009(1):4-4.``` "
   ]
  },
  {
   "cell_type": "markdown",
   "metadata": {},
   "source": [
    "For economic policymakers, ‘it is important to know how far a given economic sector can be expected to increase its output by simply increasing its efficiency, without absorbing further resources’. The effectiveness of public expenditure is more difficult to assess than efficiency since the outcome is influenced by political choices. The distinction between output and outcome is often blurred and the outcome is used in a substitutable manner. For example, the outputs of an education system are often measured in terms of performance, while efficiency in transports, could be measure in speed travel and environment cost. The effectiveness shows the success of the resources used in achieving the objectives set.\n",
    "\n",
    "\n",
    "This document chooses a narrower approach and considers the public spending allocated to the production of a given public service, like public spending on health, education, or infrastructure as a measure of input. Although policymakers are interested in the outcome, like increasing economic growth, it is only partly under their direct influence and not always achievable within one political cycle. Against the background of efficiency and effectiveness analyses, it is important to scrutinize both large spending items, like social protection, and small, but growth-enhancing ones. As regards the latter, even if the spending items account for a small share of total spending efficiently, they can have a major impact on the performance of an economy.\n"
   ]
  },
  {
   "cell_type": "markdown",
   "metadata": {},
   "source": [
    "## 2.\tCreating the optimized model\n",
    "\n",
    "\n",
    "The goal of this document is to help policymakers to structure and increase the efficiency of financial resources while maintaining budget equilibrium in an increasingly indebted regional economy. We also developed a fuzzy method for applying the optimization model using different scenarios that were simulated using the budget of the previous economic recession (2013/2011) , and the budget from 2016, which reflects a higher increment in the budget and economic activity in general. "
   ]
  },
  {
   "cell_type": "code",
   "execution_count": null,
   "metadata": {},
   "outputs": [],
   "source": []
  },
  {
   "cell_type": "code",
   "execution_count": null,
   "metadata": {},
   "outputs": [],
   "source": []
  },
  {
   "cell_type": "code",
   "execution_count": null,
   "metadata": {},
   "outputs": [],
   "source": []
  },
  {
   "cell_type": "code",
   "execution_count": null,
   "metadata": {},
   "outputs": [],
   "source": []
  },
  {
   "cell_type": "code",
   "execution_count": 3,
   "metadata": {},
   "outputs": [
    {
     "ename": "ModuleNotFoundError",
     "evalue": "No module named 'cvxopt'",
     "output_type": "error",
     "traceback": [
      "\u001b[1;31m---------------------------------------------------------------------------\u001b[0m",
      "\u001b[1;31mModuleNotFoundError\u001b[0m                       Traceback (most recent call last)",
      "\u001b[1;32m~\\AppData\\Local\\Temp/ipykernel_9984/4177584823.py\u001b[0m in \u001b[0;36m<module>\u001b[1;34m\u001b[0m\n\u001b[0;32m      1\u001b[0m \u001b[1;32mimport\u001b[0m \u001b[0mnumpy\u001b[0m \u001b[1;32mas\u001b[0m \u001b[0mnp\u001b[0m\u001b[1;33m\u001b[0m\u001b[1;33m\u001b[0m\u001b[0m\n\u001b[1;32m----> 2\u001b[1;33m \u001b[1;32mimport\u001b[0m \u001b[0mcvxopt\u001b[0m\u001b[1;33m\u001b[0m\u001b[1;33m\u001b[0m\u001b[0m\n\u001b[0m",
      "\u001b[1;31mModuleNotFoundError\u001b[0m: No module named 'cvxopt'"
     ]
    }
   ],
   "source": [
    "import numpy as np\n",
    "import cvxopt"
   ]
  },
  {
   "cell_type": "code",
   "execution_count": 9,
   "metadata": {},
   "outputs": [],
   "source": [
    "c = np.array([0.05,0.18,0.07,0.10,0.14,0.04,0.1,-0.12])\n",
    "\n",
    "A = np.array([[1,1,-.25,-.11,0,0,-.14,0],\n",
    "               [1,0,.75,-.11,0,0,-.14,0],\n",
    "               [1,0,-.25,.89,0,0,-.14,0],\n",
    "               [1,0,-.25,-.11,1,0,-.14,0],\n",
    "               [1,0,-.25,-.11,1,0,-.14,0],\n",
    "               [1,0,-.25,-.11,0,1,-.14,0],\n",
    "               [1,0,-.25,-.11,0,0,.86,0],\n",
    "               [1,0,-.25,-.11,0,0,-.14,1]], dtype=float)\n",
    "\n",
    "b = np.array([23873,1098,0,0,8109,432,0,3626], dtype=float)"
   ]
  },
  {
   "cell_type": "code",
   "execution_count": 10,
   "metadata": {},
   "outputs": [
    {
     "data": {
      "text/plain": [
       "<8x1 matrix, tc='d'>"
      ]
     },
     "execution_count": 10,
     "metadata": {},
     "output_type": "execute_result"
    }
   ],
   "source": [
    "A_ = cvxopt.matrix(A)\n",
    "b_ = cvxopt.matrix(b)\n",
    "c_ = cvxopt.matrix(c)\n",
    "c_"
   ]
  },
  {
   "cell_type": "code",
   "execution_count": 11,
   "metadata": {},
   "outputs": [
    {
     "name": "stdout",
     "output_type": "stream",
     "text": [
      "     pcost       dcost       gap    pres   dres   k/t\n",
      " 0:  2.5306e+03 -4.1007e+04  4e+04  4e-01  1e+01  1e+00\n",
      "Terminated (singular KKT matrix).\n"
     ]
    },
    {
     "data": {
      "text/plain": [
       "{'x': <8x1 matrix, tc='d'>,\n",
       " 'y': <0x1 matrix, tc='d'>,\n",
       " 's': <8x1 matrix, tc='d'>,\n",
       " 'z': <8x1 matrix, tc='d'>,\n",
       " 'status': 'unknown',\n",
       " 'gap': 38907.45312500001,\n",
       " 'relative gap': None,\n",
       " 'primal objective': 2530.5849999999996,\n",
       " 'dual objective': -41007.25,\n",
       " 'primal infeasibility': 0.4498425528551786,\n",
       " 'dual infeasibility': 10.32661559507458,\n",
       " 'primal slack': 1.0,\n",
       " 'dual slack': 1.0,\n",
       " 'residual as primal infeasibility certificate': None,\n",
       " 'residual as dual infeasibility certificate': None,\n",
       " 'iterations': 0}"
      ]
     },
     "execution_count": 11,
     "metadata": {},
     "output_type": "execute_result"
    }
   ],
   "source": [
    "sol = cvxopt.solvers.lp(c_, A_, b_)\n",
    "sol"
   ]
  },
  {
   "cell_type": "code",
   "execution_count": 22,
   "metadata": {},
   "outputs": [
    {
     "name": "stdout",
     "output_type": "stream",
     "text": [
      "[ 2.34e+03]\n",
      "[ 1.97e+04]\n",
      "[-3.04e+03]\n",
      "[-4.14e+03]\n",
      "[-8.35e+01]\n",
      "[-3.71e+03]\n",
      "[-4.14e+03]\n",
      "[-5.12e+02]\n",
      "\n",
      "2530.5849999999996\n"
     ]
    }
   ],
   "source": [
    "print(sol['x'])\n",
    "print(sol['primal objective'])"
   ]
  },
  {
   "cell_type": "code",
   "execution_count": null,
   "metadata": {},
   "outputs": [],
   "source": []
  }
 ],
 "metadata": {
  "interpreter": {
   "hash": "718505d40c6095cf455717dc3d3e7fcd65c573473480d616d9747244434702c6"
  },
  "kernelspec": {
   "display_name": "fm",
   "language": "python",
   "name": "fm"
  },
  "language_info": {
   "codemirror_mode": {
    "name": "ipython",
    "version": 3
   },
   "file_extension": ".py",
   "mimetype": "text/x-python",
   "name": "python",
   "nbconvert_exporter": "python",
   "pygments_lexer": "ipython3",
   "version": "3.8.11"
  }
 },
 "nbformat": 4,
 "nbformat_minor": 4
}
