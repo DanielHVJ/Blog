{
 "cells": [
  {
   "cell_type": "code",
   "execution_count": 1,
   "metadata": {},
   "outputs": [],
   "source": [
    "%matplotlib inline\n",
    "import pandas as pd\n",
    "import numpy as np\n",
    "import matplotlib.pyplot as plt\n",
    "from sklearn.model_selection import train_test_split\n",
    "from sklearn.linear_model import LinearRegression\n",
    "\n",
    "def clean_dataset(df):\n",
    "    assert isinstance(df, pd.DataFrame), \"df needs to be a pd.DataFrame\"\n",
    "    df.dropna(inplace=True)\n",
    "    indices_to_keep = ~df.isin([np.nan, np.inf, -np.inf]).any(1)\n",
    "    return df[indices_to_keep]"
   ]
  },
  {
   "cell_type": "code",
   "execution_count": 3,
   "metadata": {},
   "outputs": [],
   "source": [
    "df = pd.read_csv(\"D:\\\\GitRepo\\\\Blog\\\\rus2.csv\", sep=\",\")\n",
    "\n",
    "dt = df.select_dtypes(include=np.number)\n",
    "clean_dataset(dt)\n",
    "dt.head(6)\n",
    "\n",
    "y = dt[\"price_usd\"].values\n",
    "x = dt.drop([\"price_usd\"], axis=1)\n",
    "\n"
   ]
  },
  {
   "cell_type": "code",
   "execution_count": 5,
   "metadata": {},
   "outputs": [
    {
     "name": "stdout",
     "output_type": "stream",
     "text": [
      "           Table 2 - OLS Regressions\n",
      "===============================================\n",
      "                   Model 1   Model 2   Model 3 \n",
      "-----------------------------------------------\n",
      "surge_multiplier  4.640***  3.090***  3.640*** \n",
      "                  (0.739)   (0.580)   (0.578)  \n",
      "driver_gender     -1.871*** -2.276*** -2.232***\n",
      "                  (0.585)   (0.576)   (0.586)  \n",
      "distance_kms      0.288***  0.284***  0.349*** \n",
      "                  (0.018)   (0.018)   (0.013)  \n",
      "total_time        0.059***  0.060***           \n",
      "                  (0.012)   (0.012)            \n",
      "wait_time         -0.054*** -0.058*** 0.009    \n",
      "                  (0.019)   (0.019)   (0.013)  \n",
      "humidity          -2.398***                    \n",
      "                  (0.683)                      \n",
      "temperature_value -0.012                       \n",
      "                  (0.012)                      \n",
      "wind_speed        -0.026                       \n",
      "                  (0.061)                      \n",
      "R-squared         0.828     0.824     0.818    \n",
      "R-squared Adj.    0.826     0.823     0.817    \n",
      "No. observations  643       643       643      \n",
      "===============================================\n",
      "Standard errors in parentheses.\n",
      "* p<.1, ** p<.05, ***p<.01\n"
     ]
    }
   ],
   "source": [
    "from statsmodels.iolib.summary2 import summary_col\n",
    "dict={'No. observations' : lambda x: f\"{int(x.nobs):d}\"}\n",
    "\n",
    "results_table = summary_col(results=[reg1,reg2,reg3], float_format='%0.3f',\n",
    "                            stars = True, model_names=['Model 1',\n",
    "                                         'Model 2',\n",
    "                                         'Model 3'],\n",
    "                            info_dict=dict, regressor_order= ['surge_multiplier','driver_gender','distance_kms','total_time','wait_time'])\n",
    "\n",
    "results_table.add_title('Table 2 - OLS Regressions')\n",
    "print(results_table)\n"
   ]
  }
 ],
 "metadata": {
  "kernelspec": {
   "display_name": "Python 3",
   "language": "python",
   "name": "python3"
  },
  "language_info": {
   "codemirror_mode": {
    "name": "ipython",
    "version": 3
   },
   "file_extension": ".py",
   "mimetype": "text/x-python",
   "name": "python",
   "nbconvert_exporter": "python",
   "pygments_lexer": "ipython3",
   "version": "3.8.5"
  }
 },
 "nbformat": 4,
 "nbformat_minor": 2
}
