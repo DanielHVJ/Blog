{
 "cells": [
  {
   "cell_type": "code",
   "execution_count": 31,
   "metadata": {},
   "outputs": [],
   "source": [
    "import numpy as np\n",
    "import pandas as pd\n",
    "from sklearn.tree import DecisionTreeClassifier\n",
    "from sklearn.model_selection import train_test_split\n",
    "from sklearn.metrics import confusion_matrix\n",
    "from random import randint\n",
    "from matplotlib import pyplot as plt"
   ]
  },
  {
   "cell_type": "code",
   "execution_count": 32,
   "metadata": {},
   "outputs": [],
   "source": [
    "data_test = pd.read_csv('test.csv')\n",
    "data_train = pd.read_csv('train.csv')"
   ]
  },
  {
   "cell_type": "code",
   "execution_count": 34,
   "outputs": [
    {
     "data": {
      "text/plain": "   duration  credit_amount  installment_rate  present_residence   age  \\\n0        36         8086.0               2.0                4.0  42.0   \n1        15         3812.0               1.0                4.0  23.0   \n2        36         2145.0               2.0                1.0  24.0   \n3        12         2578.0               3.0                4.0  55.0   \n4        21         5003.0               1.0                4.0  29.0   \n5        15         2327.0               2.0                3.0  25.0   \n\n   existing_credits  dependents  checking_account_status_A12  \\\n0               4.0           1                            1   \n1               1.0           1                            0   \n2               2.0           1                            0   \n3               1.0           1                            0   \n4               2.0           1                            0   \n5               1.0           1                            0   \n\n   checking_account_status_A13  checking_account_status_A14  ...  \\\n0                            0                            0  ...   \n1                            0                            1  ...   \n2                            0                            0  ...   \n3                            0                            0  ...   \n4                            0                            1  ...   \n5                            1                            0  ...   \n\n   other_installment_plans_A142  other_installment_plans_A143  housing_A152  \\\n0                             0                             1             1   \n1                             0                             1             1   \n2                             0                             1             1   \n3                             0                             1             0   \n4                             0                             0             1   \n5                             0                             1             1   \n\n   housing_A153  job_A172  job_A173  job_A174  telephone_A192  \\\n0             0         0         0         1               1   \n1             0         0         1         0               1   \n2             0         0         1         0               1   \n3             1         0         0         1               0   \n4             0         0         1         0               1   \n5             0         1         0         0               0   \n\n   foreign_worker_A202  target  \n0                    0       1  \n1                    0       0  \n2                    0       1  \n3                    0       0  \n4                    0       1  \n5                    0       1  \n\n[6 rows x 49 columns]",
      "text/html": "<div>\n<style scoped>\n    .dataframe tbody tr th:only-of-type {\n        vertical-align: middle;\n    }\n\n    .dataframe tbody tr th {\n        vertical-align: top;\n    }\n\n    .dataframe thead th {\n        text-align: right;\n    }\n</style>\n<table border=\"1\" class=\"dataframe\">\n  <thead>\n    <tr style=\"text-align: right;\">\n      <th></th>\n      <th>duration</th>\n      <th>credit_amount</th>\n      <th>installment_rate</th>\n      <th>present_residence</th>\n      <th>age</th>\n      <th>existing_credits</th>\n      <th>dependents</th>\n      <th>checking_account_status_A12</th>\n      <th>checking_account_status_A13</th>\n      <th>checking_account_status_A14</th>\n      <th>...</th>\n      <th>other_installment_plans_A142</th>\n      <th>other_installment_plans_A143</th>\n      <th>housing_A152</th>\n      <th>housing_A153</th>\n      <th>job_A172</th>\n      <th>job_A173</th>\n      <th>job_A174</th>\n      <th>telephone_A192</th>\n      <th>foreign_worker_A202</th>\n      <th>target</th>\n    </tr>\n  </thead>\n  <tbody>\n    <tr>\n      <th>0</th>\n      <td>36</td>\n      <td>8086.0</td>\n      <td>2.0</td>\n      <td>4.0</td>\n      <td>42.0</td>\n      <td>4.0</td>\n      <td>1</td>\n      <td>1</td>\n      <td>0</td>\n      <td>0</td>\n      <td>...</td>\n      <td>0</td>\n      <td>1</td>\n      <td>1</td>\n      <td>0</td>\n      <td>0</td>\n      <td>0</td>\n      <td>1</td>\n      <td>1</td>\n      <td>0</td>\n      <td>1</td>\n    </tr>\n    <tr>\n      <th>1</th>\n      <td>15</td>\n      <td>3812.0</td>\n      <td>1.0</td>\n      <td>4.0</td>\n      <td>23.0</td>\n      <td>1.0</td>\n      <td>1</td>\n      <td>0</td>\n      <td>0</td>\n      <td>1</td>\n      <td>...</td>\n      <td>0</td>\n      <td>1</td>\n      <td>1</td>\n      <td>0</td>\n      <td>0</td>\n      <td>1</td>\n      <td>0</td>\n      <td>1</td>\n      <td>0</td>\n      <td>0</td>\n    </tr>\n    <tr>\n      <th>2</th>\n      <td>36</td>\n      <td>2145.0</td>\n      <td>2.0</td>\n      <td>1.0</td>\n      <td>24.0</td>\n      <td>2.0</td>\n      <td>1</td>\n      <td>0</td>\n      <td>0</td>\n      <td>0</td>\n      <td>...</td>\n      <td>0</td>\n      <td>1</td>\n      <td>1</td>\n      <td>0</td>\n      <td>0</td>\n      <td>1</td>\n      <td>0</td>\n      <td>1</td>\n      <td>0</td>\n      <td>1</td>\n    </tr>\n    <tr>\n      <th>3</th>\n      <td>12</td>\n      <td>2578.0</td>\n      <td>3.0</td>\n      <td>4.0</td>\n      <td>55.0</td>\n      <td>1.0</td>\n      <td>1</td>\n      <td>0</td>\n      <td>0</td>\n      <td>0</td>\n      <td>...</td>\n      <td>0</td>\n      <td>1</td>\n      <td>0</td>\n      <td>1</td>\n      <td>0</td>\n      <td>0</td>\n      <td>1</td>\n      <td>0</td>\n      <td>0</td>\n      <td>0</td>\n    </tr>\n    <tr>\n      <th>4</th>\n      <td>21</td>\n      <td>5003.0</td>\n      <td>1.0</td>\n      <td>4.0</td>\n      <td>29.0</td>\n      <td>2.0</td>\n      <td>1</td>\n      <td>0</td>\n      <td>0</td>\n      <td>1</td>\n      <td>...</td>\n      <td>0</td>\n      <td>0</td>\n      <td>1</td>\n      <td>0</td>\n      <td>0</td>\n      <td>1</td>\n      <td>0</td>\n      <td>1</td>\n      <td>0</td>\n      <td>1</td>\n    </tr>\n    <tr>\n      <th>5</th>\n      <td>15</td>\n      <td>2327.0</td>\n      <td>2.0</td>\n      <td>3.0</td>\n      <td>25.0</td>\n      <td>1.0</td>\n      <td>1</td>\n      <td>0</td>\n      <td>1</td>\n      <td>0</td>\n      <td>...</td>\n      <td>0</td>\n      <td>1</td>\n      <td>1</td>\n      <td>0</td>\n      <td>1</td>\n      <td>0</td>\n      <td>0</td>\n      <td>0</td>\n      <td>0</td>\n      <td>1</td>\n    </tr>\n  </tbody>\n</table>\n<p>6 rows × 49 columns</p>\n</div>"
     },
     "execution_count": 34,
     "metadata": {},
     "output_type": "execute_result"
    }
   ],
   "source": [
    "data_train.head(6)"
   ],
   "metadata": {
    "collapsed": false,
    "pycharm": {
     "name": "#%%\n"
    }
   }
  },
  {
   "cell_type": "markdown",
   "metadata": {},
   "source": [
    " ## MODEL ON DATA TRAIN"
   ]
  },
  {
   "cell_type": "code",
   "execution_count": 35,
   "metadata": {},
   "outputs": [],
   "source": [
    "def uplo(db):\n",
    "    y = db['target']\n",
    "    X = db.drop('target', axis=1)\n",
    "    xt, xte, yt, yte = train_test_split(X, y, test_size=0.3, random_state=42)\n",
    "    print('The shape of X dataset', X.shape[0])\n",
    "    print('The shape of X_train', xt.shape[0])\n",
    "    \n",
    "    return xt,xte,yt,yte"
   ]
  },
  {
   "cell_type": "code",
   "execution_count": 36,
   "metadata": {},
   "outputs": [
    {
     "name": "stdout",
     "output_type": "stream",
     "text": [
      "The shape of X dataset 900\n",
      "The shape of X_train 630\n"
     ]
    }
   ],
   "source": [
    "X_train, X_test, y_train, y_test = uplo(data_train)"
   ]
  },
  {
   "cell_type": "code",
   "execution_count": 37,
   "outputs": [
    {
     "data": {
      "text/plain": "(630, 48)"
     },
     "execution_count": 37,
     "metadata": {},
     "output_type": "execute_result"
    }
   ],
   "source": [
    "X_train.shape"
   ],
   "metadata": {
    "collapsed": false,
    "pycharm": {
     "name": "#%%\n"
    }
   }
  },
  {
   "cell_type": "markdown",
   "metadata": {},
   "source": [
    "## CORRELATION MATRIX"
   ]
  },
  {
   "cell_type": "code",
   "execution_count": 38,
   "metadata": {},
   "outputs": [
    {
     "name": "stdout",
     "output_type": "stream",
     "text": [
      "duration                       0.223492\n",
      "credit_amount                  0.168680\n",
      "checking_account_status_A12    0.116657\n",
      "installment_rate               0.065554\n",
      "present_residence              0.007676\n",
      "dependents                    -0.002630\n",
      "existing_credits              -0.055938\n",
      "checking_account_status_A13   -0.082670\n",
      "age                           -0.097674\n",
      "checking_account_status_A14   -0.315427\n",
      "Name: target, dtype: float64\n"
     ]
    }
   ],
   "source": [
    "corrMatrix = data_train.corr()\n",
    "print(corrMatrix['target'][:10].sort_values(ascending=False))"
   ]
  },
  {
   "cell_type": "code",
   "execution_count": 41,
   "metadata": {},
   "outputs": [
    {
     "data": {
      "text/plain": "['purpose_A41',\n 'checking_account_status_A13',\n 'job_A173',\n 'job_A172',\n 'purpose_A42',\n 'duration',\n 'age']"
     },
     "execution_count": 41,
     "metadata": {},
     "output_type": "execute_result"
    }
   ],
   "source": [
    "fp = []\n",
    "nu = [randint(2, 49) for p in range(2, 7)]\n",
    "nam = list(X_train.columns[nu])\n",
    "nam.extend(['duration','age'])\n",
    "nam"
   ]
  },
  {
   "cell_type": "code",
   "execution_count": 42,
   "metadata": {},
   "outputs": [],
   "source": [
    "def stree(fl,xt,xte,yt,yte):\n",
    "    for i in xt.loc[:,nam]:\n",
    "        df = xt.iloc[np.random.permutation(xt[i].values)]\n",
    "        clf = DecisionTreeClassifier()\n",
    "        clf = clf.fit(df,yt)\n",
    "        \n",
    "        #Predict the response for test dataset\n",
    "        y_pred = clf.predict(xte)\n",
    "        cm = confusion_matrix(yte, y_pred)\n",
    "        print(cm[1,0])\n",
    "        fl.append(cm[1,0])\n",
    "   \n",
    "    clf = clf.fit(xt,yt)\n",
    "    y_base = clf.predict(xte)\n",
    "    cm = confusion_matrix(yte, y_base)\n",
    "    fl.append(cm[1,0])\n",
    "    return fl"
   ]
  },
  {
   "cell_type": "code",
   "execution_count": 43,
   "metadata": {},
   "outputs": [
    {
     "name": "stdout",
     "output_type": "stream",
     "text": [
      "71\n",
      "71\n",
      "71\n",
      "71\n",
      "71\n",
      "50\n",
      "65\n"
     ]
    },
    {
     "data": {
      "text/plain": "[71, 71, 71, 71, 71, 50, 65, 35]"
     },
     "execution_count": 43,
     "metadata": {},
     "output_type": "execute_result"
    }
   ],
   "source": [
    "stree(fp,X_train,X_test,y_train,y_test)"
   ]
  },
  {
   "cell_type": "code",
   "execution_count": 44,
   "metadata": {},
   "outputs": [],
   "source": [
    "re = nam.copy()\n",
    "re.append('BASE')"
   ]
  },
  {
   "cell_type": "markdown",
   "metadata": {},
   "source": [
    "Calling DataFrame constructor after zipping"
   ]
  },
  {
   "cell_type": "code",
   "execution_count": 78,
   "metadata": {},
   "outputs": [],
   "source": [
    "lt = pd.DataFrame(list(zip(re, fp)),columns =['Name', 'CM val'])\n",
    "lt.index = lt.Name\n",
    "lt.drop(columns='Name', inplace=True)"
   ]
  },
  {
   "cell_type": "code",
   "execution_count": 47,
   "metadata": {},
   "outputs": [
    {
     "data": {
      "text/plain": "<Figure size 648x432 with 1 Axes>",
      "image/png": "[encoded data removed]"
     },
     "metadata": {
      "needs_background": "light"
     },
     "output_type": "display_data"
    }
   ],
   "source": [
    "fig, ax = plt.subplots(figsize = (9, 6))\n",
    "ax.bar(re, fp)\n",
    "plt.setp(plt.gca().get_xticklabels(), rotation=25, horizontalalignment='right', fontsize=8)\n",
    "plt.title('Train data: Selected variables')\n",
    "plt.show()"
   ]
  },
  {
   "cell_type": "markdown",
   "metadata": {},
   "source": [
    " ## MODEL ON DATA TEST"
   ]
  },
  {
   "cell_type": "code",
   "execution_count": 48,
   "metadata": {},
   "outputs": [
    {
     "name": "stdout",
     "output_type": "stream",
     "text": [
      "The shape of X dataset 100\n",
      "The shape of X_train 70\n"
     ]
    }
   ],
   "source": [
    "X_train, X_test, y_train, y_test = uplo(data_test)"
   ]
  },
  {
   "cell_type": "code",
   "execution_count": 49,
   "metadata": {},
   "outputs": [],
   "source": [
    "fpt = []"
   ]
  },
  {
   "cell_type": "code",
   "execution_count": 50,
   "metadata": {},
   "outputs": [
    {
     "name": "stdout",
     "output_type": "stream",
     "text": [
      "10\n",
      "10\n",
      "10\n",
      "10\n",
      "10\n",
      "8\n",
      "9\n"
     ]
    },
    {
     "data": {
      "text/plain": "[10, 10, 10, 10, 10, 8, 9, 7]"
     },
     "execution_count": 50,
     "metadata": {},
     "output_type": "execute_result"
    }
   ],
   "source": [
    "stree(fpt,X_train,X_test,y_train,y_test)"
   ]
  },
  {
   "cell_type": "code",
   "execution_count": 51,
   "metadata": {},
   "outputs": [],
   "source": [
    "ret = nam.copy()\n",
    "ret.append('TEST')"
   ]
  },
  {
   "cell_type": "markdown",
   "metadata": {},
   "source": [
    "Calling DataFrame constructor after zipping<br>\n",
    "xg = lt['CM val']"
   ]
  },
  {
   "cell_type": "code",
   "execution_count": 52,
   "metadata": {},
   "outputs": [
    {
     "data": {
      "text/plain": "<Figure size 648x432 with 1 Axes>",
      "image/png": "[encoded data removed]"
     },
     "metadata": {
      "needs_background": "light"
     },
     "output_type": "display_data"
    }
   ],
   "source": [
    "fig, ax = plt.subplots(figsize = (9, 6))\n",
    "plt.bar(ret, fpt)\n",
    "plt.setp(plt.gca().get_xticklabels(), rotation=25, horizontalalignment='right', fontsize=8)\n",
    "plt.title('Test data: Selected variables')\n",
    "plt.show()"
   ]
  },
  {
   "cell_type": "code",
   "execution_count": 145,
   "outputs": [
    {
     "data": {
      "text/plain": "          CM val\nName            \nduration      50\nage           65",
      "text/html": "<div>\n<style scoped>\n    .dataframe tbody tr th:only-of-type {\n        vertical-align: middle;\n    }\n\n    .dataframe tbody tr th {\n        vertical-align: top;\n    }\n\n    .dataframe thead th {\n        text-align: right;\n    }\n</style>\n<table border=\"1\" class=\"dataframe\">\n  <thead>\n    <tr style=\"text-align: right;\">\n      <th></th>\n      <th>CM val</th>\n    </tr>\n    <tr>\n      <th>Name</th>\n      <th></th>\n    </tr>\n  </thead>\n  <tbody>\n    <tr>\n      <th>duration</th>\n      <td>50</td>\n    </tr>\n    <tr>\n      <th>age</th>\n      <td>65</td>\n    </tr>\n  </tbody>\n</table>\n</div>"
     },
     "execution_count": 145,
     "metadata": {},
     "output_type": "execute_result"
    }
   ],
   "source": [
    " lt.loc[[\"duration\", \"age\"]]"
   ],
   "metadata": {
    "collapsed": false,
    "pycharm": {
     "name": "#%%\n"
    }
   }
  },
  {
   "cell_type": "code",
   "execution_count": 130,
   "outputs": [
    {
     "data": {
      "text/plain": "CM val    50\ndtype: int64"
     },
     "execution_count": 130,
     "metadata": {},
     "output_type": "execute_result"
    }
   ],
   "source": [
    "lt[lt['CM val'] > 35].min()"
   ],
   "metadata": {
    "collapsed": false,
    "pycharm": {
     "name": "#%%\n"
    }
   }
  },
  {
   "cell_type": "code",
   "execution_count": 168,
   "outputs": [],
   "source": [
    "Dict = {'fp': [fp[-1]],\n",
    "        'most_important' : lt.loc[[\"duration\", \"age\"]].to_dict(),\n",
    "        'fp_most_important' : lt[lt['CM val'] > 35].min()}"
   ],
   "metadata": {
    "collapsed": false,
    "pycharm": {
     "name": "#%%\n"
    }
   }
  },
  {
   "cell_type": "code",
   "execution_count": 175,
   "outputs": [
    {
     "data": {
      "text/plain": "{'CM val': {'duration': 50, 'age': 65}}"
     },
     "execution_count": 175,
     "metadata": {},
     "output_type": "execute_result"
    }
   ],
   "source": [],
   "metadata": {
    "collapsed": false,
    "pycharm": {
     "name": "#%%\n"
    }
   }
  }
 ],
 "metadata": {
  "kernelspec": {
   "name": "fm",
   "language": "python",
   "display_name": "fm"
  },
  "language_info": {
   "codemirror_mode": {
    "name": "ipython",
    "version": 3
   },
   "file_extension": ".py",
   "mimetype": "text/x-python",
   "name": "python",
   "nbconvert_exporter": "python",
   "pygments_lexer": "ipython3",
   "version": "3.8.11"
  }
 },
 "nbformat": 4,
 "nbformat_minor": 4
}