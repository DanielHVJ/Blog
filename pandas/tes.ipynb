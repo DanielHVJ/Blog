{
 "cells": [
  {
   "cell_type": "markdown",
   "metadata": {},
   "source": [
    "# TOP: PANDAS CHALLENGE"
   ]
  },
  {
   "cell_type": "code",
   "execution_count": 1,
   "metadata": {},
   "outputs": [],
   "source": [
    "import numpy as np\n",
    "import pandas as pd\n",
    "from sklearn.tree import DecisionTreeClassifier\n",
    "from sklearn.model_selection import train_test_split\n",
    "from sklearn.metrics import confusion_matrix\n",
    "from random import randint\n",
    "from matplotlib import pyplot as plt\n",
    "import seaborn as sns"
   ]
  },
  {
   "cell_type": "markdown",
   "metadata": {},
   "source": [
    "For this exercise it is required to use only three libraries: Pandas, Numpy and Sklearn -this last one for the Decision tree and the confusion matrix-. Additionally, we imported the random and matplotlib libraries to make the exercise more complete and visual.\n",
    "\n",
    "To continue we upload both _Train and Test_ databases. For this exercise it is only required to use the _Train Database_."
   ]
  },
  {
   "cell_type": "code",
   "execution_count": 2,
   "metadata": {},
   "outputs": [],
   "source": [
    "data_test = pd.read_csv('test.csv')\n",
    "data_train = pd.read_csv('train.csv')"
   ]
  },
  {
   "cell_type": "code",
   "execution_count": 3,
   "metadata": {
    "collapsed": false,
    "pycharm": {
     "name": "#%%\n"
    }
   },
   "outputs": [
    {
     "data": {
      "text/html": [
       "<div>\n",
       "<style scoped>\n",
       "    .dataframe tbody tr th:only-of-type {\n",
       "        vertical-align: middle;\n",
       "    }\n",
       "\n",
       "    .dataframe tbody tr th {\n",
       "        vertical-align: top;\n",
       "    }\n",
       "\n",
       "    .dataframe thead th {\n",
       "        text-align: right;\n",
       "    }\n",
       "</style>\n",
       "<table border=\"1\" class=\"dataframe\">\n",
       "  <thead>\n",
       "    <tr style=\"text-align: right;\">\n",
       "      <th></th>\n",
       "      <th>duration</th>\n",
       "      <th>credit_amount</th>\n",
       "      <th>installment_rate</th>\n",
       "      <th>present_residence</th>\n",
       "      <th>age</th>\n",
       "      <th>existing_credits</th>\n",
       "      <th>dependents</th>\n",
       "      <th>checking_account_status_A12</th>\n",
       "      <th>checking_account_status_A13</th>\n",
       "      <th>checking_account_status_A14</th>\n",
       "      <th>...</th>\n",
       "      <th>other_installment_plans_A142</th>\n",
       "      <th>other_installment_plans_A143</th>\n",
       "      <th>housing_A152</th>\n",
       "      <th>housing_A153</th>\n",
       "      <th>job_A172</th>\n",
       "      <th>job_A173</th>\n",
       "      <th>job_A174</th>\n",
       "      <th>telephone_A192</th>\n",
       "      <th>foreign_worker_A202</th>\n",
       "      <th>target</th>\n",
       "    </tr>\n",
       "  </thead>\n",
       "  <tbody>\n",
       "    <tr>\n",
       "      <th>0</th>\n",
       "      <td>36</td>\n",
       "      <td>8086.0</td>\n",
       "      <td>2.0</td>\n",
       "      <td>4.0</td>\n",
       "      <td>42.0</td>\n",
       "      <td>4.0</td>\n",
       "      <td>1</td>\n",
       "      <td>1</td>\n",
       "      <td>0</td>\n",
       "      <td>0</td>\n",
       "      <td>...</td>\n",
       "      <td>0</td>\n",
       "      <td>1</td>\n",
       "      <td>1</td>\n",
       "      <td>0</td>\n",
       "      <td>0</td>\n",
       "      <td>0</td>\n",
       "      <td>1</td>\n",
       "      <td>1</td>\n",
       "      <td>0</td>\n",
       "      <td>1</td>\n",
       "    </tr>\n",
       "    <tr>\n",
       "      <th>1</th>\n",
       "      <td>15</td>\n",
       "      <td>3812.0</td>\n",
       "      <td>1.0</td>\n",
       "      <td>4.0</td>\n",
       "      <td>23.0</td>\n",
       "      <td>1.0</td>\n",
       "      <td>1</td>\n",
       "      <td>0</td>\n",
       "      <td>0</td>\n",
       "      <td>1</td>\n",
       "      <td>...</td>\n",
       "      <td>0</td>\n",
       "      <td>1</td>\n",
       "      <td>1</td>\n",
       "      <td>0</td>\n",
       "      <td>0</td>\n",
       "      <td>1</td>\n",
       "      <td>0</td>\n",
       "      <td>1</td>\n",
       "      <td>0</td>\n",
       "      <td>0</td>\n",
       "    </tr>\n",
       "    <tr>\n",
       "      <th>2</th>\n",
       "      <td>36</td>\n",
       "      <td>2145.0</td>\n",
       "      <td>2.0</td>\n",
       "      <td>1.0</td>\n",
       "      <td>24.0</td>\n",
       "      <td>2.0</td>\n",
       "      <td>1</td>\n",
       "      <td>0</td>\n",
       "      <td>0</td>\n",
       "      <td>0</td>\n",
       "      <td>...</td>\n",
       "      <td>0</td>\n",
       "      <td>1</td>\n",
       "      <td>1</td>\n",
       "      <td>0</td>\n",
       "      <td>0</td>\n",
       "      <td>1</td>\n",
       "      <td>0</td>\n",
       "      <td>1</td>\n",
       "      <td>0</td>\n",
       "      <td>1</td>\n",
       "    </tr>\n",
       "    <tr>\n",
       "      <th>3</th>\n",
       "      <td>12</td>\n",
       "      <td>2578.0</td>\n",
       "      <td>3.0</td>\n",
       "      <td>4.0</td>\n",
       "      <td>55.0</td>\n",
       "      <td>1.0</td>\n",
       "      <td>1</td>\n",
       "      <td>0</td>\n",
       "      <td>0</td>\n",
       "      <td>0</td>\n",
       "      <td>...</td>\n",
       "      <td>0</td>\n",
       "      <td>1</td>\n",
       "      <td>0</td>\n",
       "      <td>1</td>\n",
       "      <td>0</td>\n",
       "      <td>0</td>\n",
       "      <td>1</td>\n",
       "      <td>0</td>\n",
       "      <td>0</td>\n",
       "      <td>0</td>\n",
       "    </tr>\n",
       "    <tr>\n",
       "      <th>4</th>\n",
       "      <td>21</td>\n",
       "      <td>5003.0</td>\n",
       "      <td>1.0</td>\n",
       "      <td>4.0</td>\n",
       "      <td>29.0</td>\n",
       "      <td>2.0</td>\n",
       "      <td>1</td>\n",
       "      <td>0</td>\n",
       "      <td>0</td>\n",
       "      <td>1</td>\n",
       "      <td>...</td>\n",
       "      <td>0</td>\n",
       "      <td>0</td>\n",
       "      <td>1</td>\n",
       "      <td>0</td>\n",
       "      <td>0</td>\n",
       "      <td>1</td>\n",
       "      <td>0</td>\n",
       "      <td>1</td>\n",
       "      <td>0</td>\n",
       "      <td>1</td>\n",
       "    </tr>\n",
       "    <tr>\n",
       "      <th>5</th>\n",
       "      <td>15</td>\n",
       "      <td>2327.0</td>\n",
       "      <td>2.0</td>\n",
       "      <td>3.0</td>\n",
       "      <td>25.0</td>\n",
       "      <td>1.0</td>\n",
       "      <td>1</td>\n",
       "      <td>0</td>\n",
       "      <td>1</td>\n",
       "      <td>0</td>\n",
       "      <td>...</td>\n",
       "      <td>0</td>\n",
       "      <td>1</td>\n",
       "      <td>1</td>\n",
       "      <td>0</td>\n",
       "      <td>1</td>\n",
       "      <td>0</td>\n",
       "      <td>0</td>\n",
       "      <td>0</td>\n",
       "      <td>0</td>\n",
       "      <td>1</td>\n",
       "    </tr>\n",
       "  </tbody>\n",
       "</table>\n",
       "<p>6 rows × 49 columns</p>\n",
       "</div>"
      ],
      "text/plain": [
       "   duration  credit_amount  installment_rate  present_residence   age  \\\n",
       "0        36         8086.0               2.0                4.0  42.0   \n",
       "1        15         3812.0               1.0                4.0  23.0   \n",
       "2        36         2145.0               2.0                1.0  24.0   \n",
       "3        12         2578.0               3.0                4.0  55.0   \n",
       "4        21         5003.0               1.0                4.0  29.0   \n",
       "5        15         2327.0               2.0                3.0  25.0   \n",
       "\n",
       "   existing_credits  dependents  checking_account_status_A12  \\\n",
       "0               4.0           1                            1   \n",
       "1               1.0           1                            0   \n",
       "2               2.0           1                            0   \n",
       "3               1.0           1                            0   \n",
       "4               2.0           1                            0   \n",
       "5               1.0           1                            0   \n",
       "\n",
       "   checking_account_status_A13  checking_account_status_A14  ...  \\\n",
       "0                            0                            0  ...   \n",
       "1                            0                            1  ...   \n",
       "2                            0                            0  ...   \n",
       "3                            0                            0  ...   \n",
       "4                            0                            1  ...   \n",
       "5                            1                            0  ...   \n",
       "\n",
       "   other_installment_plans_A142  other_installment_plans_A143  housing_A152  \\\n",
       "0                             0                             1             1   \n",
       "1                             0                             1             1   \n",
       "2                             0                             1             1   \n",
       "3                             0                             1             0   \n",
       "4                             0                             0             1   \n",
       "5                             0                             1             1   \n",
       "\n",
       "   housing_A153  job_A172  job_A173  job_A174  telephone_A192  \\\n",
       "0             0         0         0         1               1   \n",
       "1             0         0         1         0               1   \n",
       "2             0         0         1         0               1   \n",
       "3             1         0         0         1               0   \n",
       "4             0         0         1         0               1   \n",
       "5             0         1         0         0               0   \n",
       "\n",
       "   foreign_worker_A202  target  \n",
       "0                    0       1  \n",
       "1                    0       0  \n",
       "2                    0       1  \n",
       "3                    0       0  \n",
       "4                    0       1  \n",
       "5                    0       1  \n",
       "\n",
       "[6 rows x 49 columns]"
      ]
     },
     "execution_count": 3,
     "metadata": {},
     "output_type": "execute_result"
    }
   ],
   "source": [
    "data_train.head(6)"
   ]
  },
  {
   "cell_type": "markdown",
   "metadata": {},
   "source": [
    " ## MODELLING ON DATA TRAIN"
   ]
  },
  {
   "cell_type": "markdown",
   "metadata": {},
   "source": [
    "We constructed a function to split the Database in a _train and test database_, the former one with a size of the 30%, and random state equal to 42 for reproduction of the results."
   ]
  },
  {
   "cell_type": "code",
   "execution_count": 23,
   "metadata": {},
   "outputs": [],
   "source": [
    "def uplo(db):\n",
    "    y = db['target']\n",
    "    X = db.drop('target', axis=1)\n",
    "    xt, xte, yt, yte = train_test_split(X, y, test_size=0.3, random_state=42)\n",
    "    print('The shape of dataset:', X.shape[0])\n",
    "    print('The shape of the X dataset:', xt.shape[0])\n",
    "    \n",
    "    return xt,xte,yt,yte"
   ]
  },
  {
   "cell_type": "code",
   "execution_count": 24,
   "metadata": {},
   "outputs": [
    {
     "name": "stdout",
     "output_type": "stream",
     "text": [
      "The shape of dataset: 900\n",
      "The shape of the X dataset: 630\n"
     ]
    }
   ],
   "source": [
    "X_train, X_test, y_train, y_test = uplo(data_train)"
   ]
  },
  {
   "cell_type": "markdown",
   "metadata": {},
   "source": [
    "The dataset has a size of 900 rows and the _X_train_ dataset of size 630."
   ]
  },
  {
   "cell_type": "markdown",
   "metadata": {},
   "source": [
    "## CORRELATION MATRIX"
   ]
  },
  {
   "cell_type": "markdown",
   "metadata": {},
   "source": [
    "To continue we construct a _Correlation Matrix_ to take the most significant variables with the _target variable_, this is not required in the exercise. \n",
    "\n",
    "And we study the 10 most important."
   ]
  },
  {
   "cell_type": "code",
   "execution_count": 6,
   "metadata": {},
   "outputs": [
    {
     "name": "stdout",
     "output_type": "stream",
     "text": [
      "duration                       0.223492\n",
      "credit_amount                  0.168680\n",
      "checking_account_status_A12    0.116657\n",
      "installment_rate               0.065554\n",
      "present_residence              0.007676\n",
      "dependents                    -0.002630\n",
      "existing_credits              -0.055938\n",
      "checking_account_status_A13   -0.082670\n",
      "age                           -0.097674\n",
      "checking_account_status_A14   -0.315427\n",
      "Name: target, dtype: float64\n"
     ]
    }
   ],
   "source": [
    "corrMatrix = data_train.corr()\n",
    "\n",
    "print(corrMatrix['target'][:10].sort_values(ascending=False))"
   ]
  },
  {
   "cell_type": "markdown",
   "metadata": {},
   "source": [
    "From the correlation matrix, we take as other to important variables: _duration_ and _age_ being the former with the highest positive correlation and the latest with the negative correlation from the most important 10 variables. "
   ]
  },
  {
   "cell_type": "code",
   "execution_count": 9,
   "metadata": {},
   "outputs": [],
   "source": [
    "col = ['target','duration'               ,        \n",
    "'credit_amount'                 ,\n",
    "'checking_account_status_A12'   , \n",
    "'installment_rate'              , \n",
    "'present_residence'             , \n",
    "'dependents'                    ,\n",
    "'existing_credits'             ,\n",
    "'checking_account_status_A13'  , \n",
    "'age', 'checking_account_status_A14']"
   ]
  },
  {
   "cell_type": "code",
   "execution_count": 12,
   "metadata": {},
   "outputs": [
    {
     "data": {
      "image/png": "[encoded data removed]",
      "text/plain": [
       "<Figure size 432x288 with 2 Axes>"
      ]
     },
     "metadata": {
      "needs_background": "light"
     },
     "output_type": "display_data"
    }
   ],
   "source": [
    "corr = data_train[col].corr()\n",
    "\n",
    "ax = sns.heatmap(  corr, \n",
    "    vmin=-1, vmax=1, center=0,\n",
    "    cmap=sns.diverging_palette(20, 200, n=200),\n",
    "    square=True)\n",
    "\n",
    "ax.set_xticklabels(ax.get_xticklabels(),\n",
    "    rotation=45, horizontalalignment='right');"
   ]
  },
  {
   "cell_type": "markdown",
   "metadata": {},
   "source": [
    "After the correlation matrix, we decided to take two variables that have a considerable high (positive or negatice) with the target variable, this are: `duration and age`.\n",
    "\n",
    "In the next step, we construct an empty list that will save the metrics from the Classifier tree, then we take 5 random variables from the `Train database` and add the other 2 most correlated variables."
   ]
  },
  {
   "cell_type": "code",
   "execution_count": 13,
   "metadata": {},
   "outputs": [
    {
     "data": {
      "text/plain": [
       "['present_residence',\n",
       " 'credit_history_A31',\n",
       " 'job_A172',\n",
       " 'purpose_A41',\n",
       " 'purpose_A48',\n",
       " 'duration',\n",
       " 'age']"
      ]
     },
     "execution_count": 13,
     "metadata": {},
     "output_type": "execute_result"
    }
   ],
   "source": [
    "fp = []\n",
    "nu = [randint(2, 49) for p in range(2, 7)]\n",
    "nam = list(X_train.columns[nu])\n",
    "nam.extend(['duration','age'])\n",
    "nam"
   ]
  },
  {
   "cell_type": "markdown",
   "metadata": {},
   "source": [
    "Finally, we define a function that consider five arguments:\n",
    "\n",
    "i) the empty list for metrics, ii) the train dataset, iii) the test dataset, iv) the target variable, and v) the target variable for the test dataset.\n",
    "\n",
    "The most relevant part of the function makes the permutation for each of the ramdon variables selected plus 'duration' and 'age'. Each of this permutation is saved in a temporal dataframe which is consider for the Classification exercise.\n",
    "\n",
    "Once we perform the Classification, we make the prediction on the Test dataset, construct the Confussion Matrix and save the `false positive` values of each iteration and saved in a list. After the loop is finished, we finally perform the _Classification exercise_ on the original Train dataset and take its metric."
   ]
  },
  {
   "cell_type": "code",
   "execution_count": 14,
   "metadata": {},
   "outputs": [],
   "source": [
    "def stree(fl,xt,xte,yt,yte):\n",
    "    for i in xt.loc[:,nam]:\n",
    "        df = xt.iloc[np.random.permutation(xt[i].values)]\n",
    "        clf = DecisionTreeClassifier()\n",
    "        clf = clf.fit(df,yt)\n",
    "        \n",
    "        #Predict the response for test dataset\n",
    "        y_pred = clf.predict(xte)\n",
    "        cm = confusion_matrix(yte, y_pred)\n",
    "        print(cm[1,0])\n",
    "        fl.append(cm[1,0])\n",
    "   \n",
    "    clf = clf.fit(xt,yt)\n",
    "    y_base = clf.predict(xte)\n",
    "    cm = confusion_matrix(yte, y_base)\n",
    "    fl.append(cm[1,0])\n",
    "    return fl"
   ]
  },
  {
   "cell_type": "code",
   "execution_count": 15,
   "metadata": {},
   "outputs": [
    {
     "name": "stdout",
     "output_type": "stream",
     "text": [
      "71\n",
      "71\n",
      "71\n",
      "71\n",
      "26\n",
      "61\n",
      "54\n"
     ]
    },
    {
     "data": {
      "text/plain": [
       "[71, 71, 71, 71, 26, 61, 54, 31]"
      ]
     },
     "execution_count": 15,
     "metadata": {},
     "output_type": "execute_result"
    }
   ],
   "source": [
    "stree(fp,X_train,X_test,y_train,y_test)"
   ]
  },
  {
   "cell_type": "code",
   "execution_count": 17,
   "metadata": {},
   "outputs": [
    {
     "data": {
      "text/plain": [
       "['present_residence',\n",
       " 'credit_history_A31',\n",
       " 'job_A172',\n",
       " 'purpose_A41',\n",
       " 'purpose_A48',\n",
       " 'duration',\n",
       " 'age',\n",
       " 'BASE']"
      ]
     },
     "execution_count": 17,
     "metadata": {},
     "output_type": "execute_result"
    }
   ],
   "source": [
    "re = nam.copy()\n",
    "re.append('BASE')"
   ]
  },
  {
   "cell_type": "markdown",
   "metadata": {},
   "source": [
    "Once we perform our Classication tree, we plot the metrics (false positive) for each variable plus the original train dataset (called Base).\n",
    "\n",
    "We see that the variable with least error is `purpose_A48` followed by our `Base model`; the other two variables with least error are: `duration` and `age`."
   ]
  },
  {
   "cell_type": "code",
   "execution_count": 18,
   "metadata": {},
   "outputs": [
    {
     "data": {
      "image/png": "[encoded data removed]",
      "text/plain": [
       "<Figure size 648x432 with 1 Axes>"
      ]
     },
     "metadata": {
      "needs_background": "light"
     },
     "output_type": "display_data"
    }
   ],
   "source": [
    "fig, ax = plt.subplots(figsize = (9, 6))\n",
    "ax.bar(re, fp)\n",
    "plt.setp(plt.gca().get_xticklabels(), rotation=25, horizontalalignment='right', fontsize=8)\n",
    "plt.title('Train data: Selected variables')\n",
    "plt.show()"
   ]
  },
  {
   "cell_type": "markdown",
   "metadata": {},
   "source": [
    " ## MODEL ON DATA TEST"
   ]
  },
  {
   "cell_type": "markdown",
   "metadata": {},
   "source": [
    "Finally, to test our previous model considering the same variables and specification for the Classification tree, we reply it on the Test dataset. \n",
    "\n",
    "We could see that the Test sample is considerable small with a size of 100 rows, and only 70 rows for the X dataset."
   ]
  },
  {
   "cell_type": "code",
   "execution_count": 25,
   "metadata": {},
   "outputs": [
    {
     "name": "stdout",
     "output_type": "stream",
     "text": [
      "The shape of dataset: 100\n",
      "The shape of the X dataset: 70\n"
     ]
    }
   ],
   "source": [
    "X_train, X_test, y_train, y_test = uplo(data_test)"
   ]
  },
  {
   "cell_type": "code",
   "execution_count": 26,
   "metadata": {},
   "outputs": [
    {
     "name": "stdout",
     "output_type": "stream",
     "text": [
      "10\n",
      "10\n",
      "10\n",
      "10\n",
      "10\n",
      "5\n",
      "8\n"
     ]
    },
    {
     "data": {
      "text/plain": [
       "[10, 10, 10, 10, 10, 5, 8, 6]"
      ]
     },
     "execution_count": 26,
     "metadata": {},
     "output_type": "execute_result"
    }
   ],
   "source": [
    "fpt = []\n",
    "stree(fpt,X_train,X_test,y_train,y_test)"
   ]
  },
  {
   "cell_type": "code",
   "execution_count": 27,
   "metadata": {},
   "outputs": [],
   "source": [
    "ret = nam.copy()\n",
    "ret.append('TEST')"
   ]
  },
  {
   "cell_type": "markdown",
   "metadata": {},
   "source": [
    "After we perform the previous Classification model, we plot it metrics, this time we found that the variable with least error is `duration` followed by the `Test model and age`. The other variables have a higher error."
   ]
  },
  {
   "cell_type": "code",
   "execution_count": 28,
   "metadata": {},
   "outputs": [
    {
     "data": {
      "image/png": "[encoded data removed]",
      "text/plain": [
       "<Figure size 648x432 with 1 Axes>"
      ]
     },
     "metadata": {
      "needs_background": "light"
     },
     "output_type": "display_data"
    }
   ],
   "source": [
    "fig, ax = plt.subplots(figsize = (9, 6))\n",
    "plt.bar(ret, fpt)\n",
    "plt.setp(plt.gca().get_xticklabels(), rotation=25, horizontalalignment='right', fontsize=8)\n",
    "plt.title('Test data: Selected variables')\n",
    "plt.show()"
   ]
  },
  {
   "cell_type": "markdown",
   "metadata": {},
   "source": [
    "To conclude we constructe a Dataframe zipping the results from the Train sample."
   ]
  },
  {
   "cell_type": "code",
   "execution_count": 37,
   "metadata": {},
   "outputs": [
    {
     "data": {
      "text/html": [
       "<div>\n",
       "<style scoped>\n",
       "    .dataframe tbody tr th:only-of-type {\n",
       "        vertical-align: middle;\n",
       "    }\n",
       "\n",
       "    .dataframe tbody tr th {\n",
       "        vertical-align: top;\n",
       "    }\n",
       "\n",
       "    .dataframe thead th {\n",
       "        text-align: right;\n",
       "    }\n",
       "</style>\n",
       "<table border=\"1\" class=\"dataframe\">\n",
       "  <thead>\n",
       "    <tr style=\"text-align: right;\">\n",
       "      <th></th>\n",
       "      <th>CM val</th>\n",
       "    </tr>\n",
       "    <tr>\n",
       "      <th>Name</th>\n",
       "      <th></th>\n",
       "    </tr>\n",
       "  </thead>\n",
       "  <tbody>\n",
       "    <tr>\n",
       "      <th>present_residence</th>\n",
       "      <td>71</td>\n",
       "    </tr>\n",
       "    <tr>\n",
       "      <th>credit_history_A31</th>\n",
       "      <td>71</td>\n",
       "    </tr>\n",
       "    <tr>\n",
       "      <th>job_A172</th>\n",
       "      <td>71</td>\n",
       "    </tr>\n",
       "    <tr>\n",
       "      <th>purpose_A41</th>\n",
       "      <td>71</td>\n",
       "    </tr>\n",
       "    <tr>\n",
       "      <th>purpose_A48</th>\n",
       "      <td>26</td>\n",
       "    </tr>\n",
       "    <tr>\n",
       "      <th>duration</th>\n",
       "      <td>61</td>\n",
       "    </tr>\n",
       "    <tr>\n",
       "      <th>age</th>\n",
       "      <td>54</td>\n",
       "    </tr>\n",
       "    <tr>\n",
       "      <th>BASE</th>\n",
       "      <td>31</td>\n",
       "    </tr>\n",
       "  </tbody>\n",
       "</table>\n",
       "</div>"
      ],
      "text/plain": [
       "                    CM val\n",
       "Name                      \n",
       "present_residence       71\n",
       "credit_history_A31      71\n",
       "job_A172                71\n",
       "purpose_A41             71\n",
       "purpose_A48             26\n",
       "duration                61\n",
       "age                     54\n",
       "BASE                    31"
      ]
     },
     "execution_count": 37,
     "metadata": {},
     "output_type": "execute_result"
    }
   ],
   "source": [
    "lt = pd.DataFrame(list(zip(re, fp)),columns =['Name', 'CM val'])\n",
    "lt.index = lt.Name\n",
    "lt.drop(columns='Name', inplace=True)\n",
    "\n",
    "lt"
   ]
  },
  {
   "cell_type": "markdown",
   "metadata": {},
   "source": [
    "To present the main variables and its metrics, we construct a dictionary that contains three arguments:\n",
    "\n",
    "i) The error from the `Base model`.\n",
    "\n",
    "ii) The results from the most import variables.\n",
    "\n",
    "iii) The variable model with the least error, which in our case is different from the `Base model`."
   ]
  },
  {
   "cell_type": "code",
   "execution_count": 41,
   "metadata": {
    "collapsed": false,
    "pycharm": {
     "name": "#%%\n"
    }
   },
   "outputs": [],
   "source": [
    "Dict = {'fp': [fp[-1]],\n",
    "        'most_important' : lt.loc[[\"purpose_A48\", \"age\"]].to_dict(),\n",
    "        'fp_most_important' : lt['CM val'].min()}"
   ]
  }
 ],
 "metadata": {
  "interpreter": {
   "hash": "e81029292bb209741825880db312bbf4a0aa6be079fd3484d3542d158a6bc652"
  },
  "kernelspec": {
   "display_name": "Python 3.9.7 64-bit ('fb': conda)",
   "language": "python",
   "name": "python3"
  },
  "language_info": {
   "codemirror_mode": {
    "name": "ipython",
    "version": 3
   },
   "file_extension": ".py",
   "mimetype": "text/x-python",
   "name": "python",
   "nbconvert_exporter": "python",
   "pygments_lexer": "ipython3",
   "version": "3.9.7"
  }
 },
 "nbformat": 4,
 "nbformat_minor": 4
}
